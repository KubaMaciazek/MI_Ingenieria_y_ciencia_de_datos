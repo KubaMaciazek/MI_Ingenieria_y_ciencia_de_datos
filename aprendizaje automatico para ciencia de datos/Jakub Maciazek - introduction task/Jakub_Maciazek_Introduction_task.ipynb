{
  "nbformat": 4,
  "nbformat_minor": 0,
  "metadata": {
    "kernelspec": {
      "display_name": "Python 3",
      "language": "python",
      "name": "python3"
    },
    "language_info": {
      "codemirror_mode": {
        "name": "ipython",
        "version": 3
      },
      "file_extension": ".py",
      "mimetype": "text/x-python",
      "name": "python",
      "nbconvert_exporter": "python",
      "pygments_lexer": "ipython3",
      "version": "3.6.4"
    },
    "colab": {
      "provenance": []
    }
  },
  "cells": [
    {
      "cell_type": "markdown",
      "source": [
        "#Overview\n",
        "Fot the task following dataset was choosen *pendigits* which is a Pen-Based Recognition of Handwritten Digits Data Set from LIBSVM.\n",
        "\n",
        "The set is split into two files, learning set of 7,494 samples, and testing one of 3,498 samples.\n",
        "\n",
        "There are 10 classes across the dataspace."
      ],
      "metadata": {
        "id": "p4w56T512BTn"
      }
    },
    {
      "cell_type": "markdown",
      "source": [
        "#Data preparation\n",
        "\n",
        "Load training and testing set."
      ],
      "metadata": {
        "id": "arjhzqd6Baaz"
      }
    },
    {
      "cell_type": "code",
      "source": [
        "from sklearn import datasets\n",
        "\n",
        "pendings = datasets.load_svmlight_file('/content/data_sets/pendigits.txt')\n",
        "target = pendings[-1]\n",
        "data = pendings[0]\n",
        "\n",
        "pendings = datasets.load_svmlight_file('/content/data_sets/pendigits_test.txt')\n",
        "target_test = pendings[-1]\n",
        "data_test = pendings[0]"
      ],
      "metadata": {
        "id": "9lDbJHokBYEX"
      },
      "execution_count": 63,
      "outputs": []
    },
    {
      "cell_type": "markdown",
      "source": [
        "#Training and testing\n",
        "\n",
        "Classification acuracy is at the level of 95%."
      ],
      "metadata": {
        "id": "3ELmc2VzGdjf"
      }
    },
    {
      "cell_type": "code",
      "source": [
        "from sklearn import svm\n",
        "clf = svm.SVC(gamma=0.001, C=100.)\n",
        "clf.fit(data, target)\n",
        "target_prediction = clf.predict(data_test)\n",
        "\n",
        "diff = target_test - target_prediction \n",
        "\n",
        "import numpy as np\n",
        "nr_of_incorrect = np.count_nonzero(diff)\n",
        "total_nr_of_samples = len(target_test)\n",
        "\n",
        "accuracy = (total_nr_of_samples - nr_of_incorrect) / total_nr_of_samples\n",
        "print('Accuracy: ', round(accuracy, 2), '%')"
      ],
      "metadata": {
        "colab": {
          "base_uri": "https://localhost:8080/",
          "height": 0
        },
        "id": "pVB2Z3tnGhkt",
        "outputId": "2aa6e7a3-f850-4e82-ca96-ff98b964bd2c"
      },
      "execution_count": 64,
      "outputs": [
        {
          "output_type": "stream",
          "name": "stdout",
          "text": [
            "Accuracy:  0.95 %\n"
          ]
        }
      ]
    },
    {
      "cell_type": "markdown",
      "source": [
        "#Training and performance for different kernel\n",
        "\n",
        "Change of the default kernel rbf to linear.\n",
        "\n",
        "New obtained accuracy is at the level of 95%."
      ],
      "metadata": {
        "id": "4Lp4aUWjJvob"
      }
    },
    {
      "cell_type": "code",
      "source": [
        "clf.set_params(kernel='linear').fit(data, target)\n",
        "target_prediction = clf.predict(data_test)\n",
        "\n",
        "diff = target_test - target_prediction \n",
        "\n",
        "nr_of_incorrect = np.count_nonzero(diff)\n",
        "total_nr_of_samples = len(target_test)\n",
        "\n",
        "accuracy = (total_nr_of_samples - nr_of_incorrect) / total_nr_of_samples\n",
        "print('Accuracy: ', round(accuracy, 2), '%')"
      ],
      "metadata": {
        "id": "g300LLSvJ2j1",
        "colab": {
          "base_uri": "https://localhost:8080/",
          "height": 0
        },
        "outputId": "8d47c703-cf0f-48e8-8c37-503442e415a0"
      },
      "execution_count": 65,
      "outputs": [
        {
          "output_type": "stream",
          "name": "stdout",
          "text": [
            "Accuracy:  0.95 %\n"
          ]
        }
      ]
    },
    {
      "cell_type": "markdown",
      "source": [
        "# Change from multiclass coding to multilabel coding.\n",
        "\n",
        "Using multiclass classifiers, accuracy was improved to the level of 98% for OneVsRestClassifier.\n"
      ],
      "metadata": {
        "id": "BUX1izCoMQq7"
      }
    },
    {
      "cell_type": "code",
      "source": [
        "from sklearn.svm import SVC\n",
        "from sklearn.multiclass import OneVsRestClassifier\n",
        "from sklearn.preprocessing import LabelBinarizer\n",
        "\n",
        "iris = datasets.load_iris()\n",
        "classif = OneVsRestClassifier(estimator=SVC(random_state=0))\n",
        "clf4 = classif.fit(data, target)\n",
        "\n",
        "target_prediction = clf4.predict(data_test)\n",
        "\n",
        "diff = target_test - target_prediction \n",
        "\n",
        "nr_of_incorrect = np.count_nonzero(diff)\n",
        "total_nr_of_samples = len(target_test)\n",
        "\n",
        "accuracy = (total_nr_of_samples - nr_of_incorrect) / total_nr_of_samples\n",
        "print('Accuracy for OneVsRestClassifier: ', round(accuracy, 2), '%')"
      ],
      "metadata": {
        "colab": {
          "base_uri": "https://localhost:8080/",
          "height": 0
        },
        "id": "lfScnxcGMzrA",
        "outputId": "c97e6acf-fba2-4caf-c93b-0a348c3daaee"
      },
      "execution_count": 66,
      "outputs": [
        {
          "output_type": "stream",
          "name": "stdout",
          "text": [
            "Accuracy for OneVsRestClassifier:  0.98 %\n"
          ]
        }
      ]
    },
    {
      "cell_type": "markdown",
      "source": [
        "**Multilabel coding**\n",
        "\n",
        "For multilabel coding, for labels assigned for samles, correct ones were included 97% times.\n"
      ],
      "metadata": {
        "id": "n8lXhpxjR8zo"
      }
    },
    {
      "cell_type": "code",
      "source": [
        "y = LabelBinarizer().fit_transform(target)\n",
        "clf5 = classif.fit(data, y)\n",
        "target_prediction = clf5.predict(data_test)\n",
        "\n",
        "nr_of_correct = 0\n",
        "\n",
        "for i in range(len(target_test)):\n",
        "  index = int(target_test[i])\n",
        "  if(target_prediction[i][index] == 1):\n",
        "    nr_of_correct += 1\n",
        "\n",
        "accuracy = nr_of_correct / total_nr_of_samples\n",
        "print('Accuracy for Multilabel coding: ', round(accuracy, 2), '%')"
      ],
      "metadata": {
        "colab": {
          "base_uri": "https://localhost:8080/",
          "height": 0
        },
        "id": "ojF9J7kXSD3C",
        "outputId": "d6be0e09-fbda-41b5-942e-2df60fc7866a"
      },
      "execution_count": 67,
      "outputs": [
        {
          "output_type": "stream",
          "name": "stdout",
          "text": [
            "Accuracy for Multilabel coding:  0.97 %\n"
          ]
        }
      ]
    }
  ]
}