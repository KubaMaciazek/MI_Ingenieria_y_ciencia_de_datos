{
  "nbformat": 4,
  "nbformat_minor": 0,
  "metadata": {
    "kernelspec": {
      "display_name": "Python 3",
      "language": "python",
      "name": "python3"
    },
    "language_info": {
      "codemirror_mode": {
        "name": "ipython",
        "version": 3
      },
      "file_extension": ".py",
      "mimetype": "text/x-python",
      "name": "python",
      "nbconvert_exporter": "python",
      "pygments_lexer": "ipython3",
      "version": "3.6.4"
    },
    "colab": {
      "name": "Introduction.ipynb",
      "provenance": [],
      "collapsed_sections": []
    }
  },
  "cells": [
    {
      "cell_type": "markdown",
      "metadata": {
        "id": "kXC696fob7YU"
      },
      "source": [
        "# Here we load the data and print some of them\n",
        "See http://scikit-learn.org/stable/tutorial/basic/tutorial.html#machine-learning-the-problem-setting"
      ]
    },
    {
      "cell_type": "code",
      "metadata": {
        "id": "6MyGId1Sb7YW",
        "colab": {
          "base_uri": "https://localhost:8080/"
        },
        "outputId": "263d8b2c-9b49-4741-ca58-dfbf5e2ea115"
      },
      "source": [
        "from sklearn import datasets\n",
        "digits = datasets.load_digits()\n",
        "print(digits.data)"
      ],
      "execution_count": 1,
      "outputs": [
        {
          "output_type": "stream",
          "name": "stdout",
          "text": [
            "[[ 0.  0.  5. ...  0.  0.  0.]\n",
            " [ 0.  0.  0. ... 10.  0.  0.]\n",
            " [ 0.  0.  0. ... 16.  9.  0.]\n",
            " ...\n",
            " [ 0.  0.  1. ...  6.  0.  0.]\n",
            " [ 0.  0.  2. ... 12.  0.  0.]\n",
            " [ 0.  0. 10. ... 12.  1.  0.]]\n"
          ]
        }
      ]
    },
    {
      "cell_type": "code",
      "metadata": {
        "id": "vB77MTyqb7YY",
        "colab": {
          "base_uri": "https://localhost:8080/"
        },
        "outputId": "7bd3ee73-c5f4-4684-da1f-a4ce44c0f0a2"
      },
      "source": [
        "digits.target"
      ],
      "execution_count": 2,
      "outputs": [
        {
          "output_type": "execute_result",
          "data": {
            "text/plain": [
              "array([0, 1, 2, ..., 8, 9, 8])"
            ]
          },
          "metadata": {},
          "execution_count": 2
        }
      ]
    },
    {
      "cell_type": "code",
      "metadata": {
        "id": "1TMgh0rZb7Yb",
        "colab": {
          "base_uri": "https://localhost:8080/"
        },
        "outputId": "7ea3cde5-af71-4214-aacc-191304c00ccc"
      },
      "source": [
        "digits.data.shape"
      ],
      "execution_count": 3,
      "outputs": [
        {
          "output_type": "execute_result",
          "data": {
            "text/plain": [
              "(1797, 64)"
            ]
          },
          "metadata": {},
          "execution_count": 3
        }
      ]
    },
    {
      "cell_type": "code",
      "metadata": {
        "id": "APCWW963b7Yd",
        "colab": {
          "base_uri": "https://localhost:8080/"
        },
        "outputId": "a809bf1c-a1ae-42b1-c2c6-1c0b47dcf179"
      },
      "source": [
        "digits.target.shape"
      ],
      "execution_count": 4,
      "outputs": [
        {
          "output_type": "execute_result",
          "data": {
            "text/plain": [
              "(1797,)"
            ]
          },
          "metadata": {},
          "execution_count": 4
        }
      ]
    },
    {
      "cell_type": "markdown",
      "metadata": {
        "id": "r-CNB1EVb7Yg"
      },
      "source": [
        "Note the %matplotlib inline command to make the figure appear directly under the code cell"
      ]
    },
    {
      "cell_type": "code",
      "metadata": {
        "id": "jThKCNBOb7Yg",
        "colab": {
          "base_uri": "https://localhost:8080/",
          "height": 282
        },
        "outputId": "0806ae8f-beea-4416-b97c-84a3b00b238f"
      },
      "source": [
        "import matplotlib.pyplot as plt\n",
        "%matplotlib inline\n",
        "plt.imshow(digits.images[-1], cmap=plt.cm.gray_r)"
      ],
      "execution_count": 5,
      "outputs": [
        {
          "output_type": "execute_result",
          "data": {
            "text/plain": [
              "<matplotlib.image.AxesImage at 0x7f33e1d967d0>"
            ]
          },
          "metadata": {},
          "execution_count": 5
        },
        {
          "output_type": "display_data",
          "data": {
            "image/png": "[encoded data removed]",
            "text/plain": [
              "<Figure size 432x288 with 1 Axes>"
            ]
          },
          "metadata": {
            "needs_background": "light"
          }
        }
      ]
    },
    {
      "cell_type": "markdown",
      "metadata": {
        "id": "uFM1sMcsb7Yi"
      },
      "source": [
        "See http://scikit-learn.org/stable/tutorial/basic/tutorial.html#learning-and-predicting\n",
        "\n",
        "Please note that all the samples except the last one are used for training, while the last sample is used for testing (predicting)"
      ]
    },
    {
      "cell_type": "code",
      "metadata": {
        "id": "zCfNM6Edb7Yj",
        "colab": {
          "base_uri": "https://localhost:8080/"
        },
        "outputId": "76b34326-63c8-4d19-b8ba-d6f4b89a9b86"
      },
      "source": [
        "from sklearn import svm\n",
        "clf = svm.SVC(gamma=0.001, C=100.)\n",
        "clf.fit(digits.data[:-1], digits.target[:-1])"
      ],
      "execution_count": 6,
      "outputs": [
        {
          "output_type": "execute_result",
          "data": {
            "text/plain": [
              "SVC(C=100.0, gamma=0.001)"
            ]
          },
          "metadata": {},
          "execution_count": 6
        }
      ]
    },
    {
      "cell_type": "code",
      "metadata": {
        "id": "4ZpzDXfcb7Yl",
        "colab": {
          "base_uri": "https://localhost:8080/"
        },
        "outputId": "23f693c6-86cc-4a76-924a-c02821f69a67"
      },
      "source": [
        "clf.predict(digits.data[-1:])"
      ],
      "execution_count": 7,
      "outputs": [
        {
          "output_type": "execute_result",
          "data": {
            "text/plain": [
              "array([8])"
            ]
          },
          "metadata": {},
          "execution_count": 7
        }
      ]
    },
    {
      "cell_type": "markdown",
      "metadata": {
        "id": "FyDsFsEIb7Yn"
      },
      "source": [
        "# Store a model into disk\n",
        "See http://scikit-learn.org/stable/tutorial/basic/tutorial.html#model-persistence"
      ]
    },
    {
      "cell_type": "code",
      "metadata": {
        "id": "0f-WqkMmb7Yo",
        "colab": {
          "base_uri": "https://localhost:8080/"
        },
        "outputId": "381e9baa-9122-423b-f317-daefc82b1175"
      },
      "source": [
        "import pickle\n",
        "s = pickle.dumps(clf)\n",
        "clf2 = pickle.loads(s)\n",
        "clf2.predict(digits.data[-1:])"
      ],
      "execution_count": 8,
      "outputs": [
        {
          "output_type": "execute_result",
          "data": {
            "text/plain": [
              "array([8])"
            ]
          },
          "metadata": {},
          "execution_count": 8
        }
      ]
    },
    {
      "cell_type": "code",
      "metadata": {
        "id": "sezotuZSb7Yq",
        "colab": {
          "base_uri": "https://localhost:8080/"
        },
        "outputId": "f18bb752-a1f6-4f5f-970d-f0d341ef0b41"
      },
      "source": [
        "import joblib\n",
        "joblib.dump(clf, 'mysavedmodel.pkl') \n",
        "clf3 = joblib.load('mysavedmodel.pkl') \n",
        "clf3.predict(digits.data[-1:])"
      ],
      "execution_count": 11,
      "outputs": [
        {
          "output_type": "execute_result",
          "data": {
            "text/plain": [
              "array([8])"
            ]
          },
          "metadata": {},
          "execution_count": 11
        }
      ]
    },
    {
      "cell_type": "markdown",
      "metadata": {
        "id": "lAv2Ql6Mb7Ys"
      },
      "source": [
        "# Retrain a previously trained model\n",
        "See http://scikit-learn.org/stable/tutorial/basic/tutorial.html#refitting-and-updating-parameters"
      ]
    },
    {
      "cell_type": "code",
      "metadata": {
        "id": "IST8YWUkb7Ys",
        "colab": {
          "base_uri": "https://localhost:8080/"
        },
        "outputId": "8fa9e4e0-c615-4217-a4b0-c2562d1b48a8"
      },
      "source": [
        "clf.set_params(kernel='linear').fit(digits.data[:-1], digits.target[:-1])"
      ],
      "execution_count": 12,
      "outputs": [
        {
          "output_type": "execute_result",
          "data": {
            "text/plain": [
              "SVC(C=100.0, gamma=0.001, kernel='linear')"
            ]
          },
          "metadata": {},
          "execution_count": 12
        }
      ]
    },
    {
      "cell_type": "code",
      "metadata": {
        "id": "AzlYPXkeb7Yv",
        "colab": {
          "base_uri": "https://localhost:8080/"
        },
        "outputId": "00ba9622-ee80-49af-fb1e-e51ea7252615"
      },
      "source": [
        "clf.predict(digits.data[-1:])"
      ],
      "execution_count": 13,
      "outputs": [
        {
          "output_type": "execute_result",
          "data": {
            "text/plain": [
              "array([8])"
            ]
          },
          "metadata": {},
          "execution_count": 13
        }
      ]
    },
    {
      "cell_type": "code",
      "metadata": {
        "id": "BcjgGWkbb7Yx",
        "colab": {
          "base_uri": "https://localhost:8080/"
        },
        "outputId": "a2cb11fd-6f98-45e1-a5ef-6026db8322a9"
      },
      "source": [
        "aa=[11,22,33,44,55]\n",
        "aa[-1:]"
      ],
      "execution_count": 14,
      "outputs": [
        {
          "output_type": "execute_result",
          "data": {
            "text/plain": [
              "[55]"
            ]
          },
          "metadata": {},
          "execution_count": 14
        }
      ]
    },
    {
      "cell_type": "code",
      "metadata": {
        "id": "RGpgiPV9b7Yz",
        "colab": {
          "base_uri": "https://localhost:8080/"
        },
        "outputId": "58d6114a-3899-4ad0-f2d1-d337190b0045"
      },
      "source": [
        "digits.target[:-1]"
      ],
      "execution_count": 15,
      "outputs": [
        {
          "output_type": "execute_result",
          "data": {
            "text/plain": [
              "array([0, 1, 2, ..., 0, 8, 9])"
            ]
          },
          "metadata": {},
          "execution_count": 15
        }
      ]
    },
    {
      "cell_type": "markdown",
      "metadata": {
        "id": "JFZMun-gb7Y1"
      },
      "source": [
        "# Multiclass versus multilabel classification\n",
        "See http://scikit-learn.org/stable/tutorial/basic/tutorial.html#multiclass-vs-multilabel-fitting\n",
        "\n",
        "Please note that all the samples except the last one are used for training, while the last sample is used for testing (predicting). If multilabel classification is used, then it is possible that a sample is classified into zero, one or more classes, i.e. it is not guaranteed that the resulting label vector has all 0s except a single 1.\n"
      ]
    },
    {
      "cell_type": "code",
      "metadata": {
        "id": "49WRv86qb7Y1",
        "colab": {
          "base_uri": "https://localhost:8080/"
        },
        "outputId": "e04478eb-b370-4b85-95e2-669f9c26d7ba"
      },
      "source": [
        "from sklearn.svm import SVC\n",
        "from sklearn.multiclass import OneVsRestClassifier\n",
        "from sklearn.preprocessing import LabelBinarizer\n",
        "\n",
        "iris = datasets.load_iris()\n",
        "classif = OneVsRestClassifier(estimator=SVC(random_state=0))\n",
        "clf4=classif.fit(iris.data[:-1], iris.target[:-1])\n",
        "clf4.predict(iris.data[-1:])"
      ],
      "execution_count": 16,
      "outputs": [
        {
          "output_type": "execute_result",
          "data": {
            "text/plain": [
              "array([2])"
            ]
          },
          "metadata": {},
          "execution_count": 16
        }
      ]
    },
    {
      "cell_type": "code",
      "metadata": {
        "id": "XGJ82FXbb7Y3",
        "colab": {
          "base_uri": "https://localhost:8080/"
        },
        "outputId": "366d17ff-4795-40ad-83fb-5ed0ec71977b"
      },
      "source": [
        "y = LabelBinarizer().fit_transform(iris.target)\n",
        "clf5=classif.fit(iris.data[:-1], y[:-1])\n",
        "clf5.predict(iris.data[-1:])"
      ],
      "execution_count": 17,
      "outputs": [
        {
          "output_type": "execute_result",
          "data": {
            "text/plain": [
              "array([[0, 0, 1]])"
            ]
          },
          "metadata": {},
          "execution_count": 17
        }
      ]
    },
    {
      "cell_type": "code",
      "metadata": {
        "id": "yRLnF3kXb7Y5"
      },
      "source": [
        ""
      ],
      "execution_count": 17,
      "outputs": []
    }
  ]
}