{
  "nbformat": 4,
  "nbformat_minor": 0,
  "metadata": {
    "kernelspec": {
      "display_name": "Python 3",
      "language": "python",
      "name": "python3"
    },
    "language_info": {
      "codemirror_mode": {
        "name": "ipython",
        "version": 3
      },
      "file_extension": ".py",
      "mimetype": "text/x-python",
      "name": "python",
      "nbconvert_exporter": "python",
      "pygments_lexer": "ipython3",
      "version": "3.6.4"
    },
    "colab": {
      "provenance": []
    }
  },
  "cells": [
    {
      "cell_type": "markdown",
      "source": [
        "from IPython.display import set_matplotlib_formats\n",
        "set_matplotlib_formats('pdf', 'svg')"
      ],
      "metadata": {
        "id": "RR2QsvEyBlrQ"
      }
    },
    {
      "cell_type": "markdown",
      "source": [
        "#Overview\n",
        "\n",
        "For this task same dataset *pendigits* as before was choosen. It is a Pen-Based Recognition of Handwritten Digits Data Set from LIBSVM.\n",
        "\n",
        "The set is split into two files, learning set of 7,494 samples, and testing one of 3,498 samples. In order to randomize datasets, in this exercise only learning set will be used, and randomly split into new learning and testing set.\n",
        "\n",
        "There are 10 classes across the dataspace.\n",
        "\n",
        "------------------------------------------------------------------------\n",
        "\n",
        "For binary tasks, one of default sets will be used."
      ],
      "metadata": {
        "id": "L622mGYvFE8Y"
      }
    },
    {
      "cell_type": "markdown",
      "source": [
        "#Dataset upload, cross validation, and classifier sellection\n",
        "1. You must load the machine learning multiclass dataset that you already used in the\n",
        "Introduction section. You are going to use cross validation to choose a classifier. There\n",
        "are many kinds of cross validation techniques, so you should consider their advantages\n",
        "and drawbacks.\n"
      ],
      "metadata": {
        "id": "sqWlY7tFFKOI"
      }
    },
    {
      "cell_type": "code",
      "source": [
        "#Load dataset\n",
        "from sklearn import datasets\n",
        "\n",
        "pendings = datasets.load_svmlight_file('/content/pendigits.txt')\n",
        "target = pendings[-1]\n",
        "data = pendings[0].toarray()"
      ],
      "metadata": {
        "id": "iC_jzAuXPE1I"
      },
      "execution_count": 82,
      "outputs": []
    },
    {
      "cell_type": "code",
      "source": [
        "#Cross validation\n",
        "import numpy as np\n",
        "\n",
        "y = list(target)\n",
        "classes = np.unique(y)\n",
        "occur = list()\n",
        "for c in classes:\n",
        "    occur.append(y.count(c))\n",
        "print(occur)"
      ],
      "metadata": {
        "colab": {
          "base_uri": "https://localhost:8080/"
        },
        "id": "0YalLV8yP3L7",
        "outputId": "98cca82a-710d-4c45-fe9e-f3fb284f4795"
      },
      "execution_count": 83,
      "outputs": [
        {
          "output_type": "stream",
          "name": "stdout",
          "text": [
            "[780, 779, 780, 719, 780, 720, 720, 778, 719, 719]\n"
          ]
        }
      ]
    },
    {
      "cell_type": "markdown",
      "source": [
        "Given that each class occurs similar number of times in the dataset (occurences: [780, 779, 780, 719, 780, 720, 720, 778, 719, 719]), dataset does not have class imbalance, therefore bias regaridng this imbalance will not occure. Therefore there is no need to use cross validation like *Stratified k-Fold* to manage it.\n",
        "\n",
        "Therefore standard *ShuffleSplit* will be used, to ensure randomness of training subsets, and number of 10 splits, equal to 10 classes, and ensureing in each iteration 90% of dataset for testning.\n",
        "\n",
        "More time consuming methods like *Nested cross-validation* wont's be used, because of well data distribution mentioned above."
      ],
      "metadata": {
        "id": "Ws1g3iEIZGk9"
      }
    },
    {
      "cell_type": "code",
      "source": [
        "# Classifiers\n",
        "from sklearn import tree, svm\n",
        "from sklearn.naive_bayes import GaussianNB\n",
        "\n",
        "svc = svm.SVC(C=1, kernel='linear')\n",
        "gnb = GaussianNB()\n",
        "dtc = tree.DecisionTreeClassifier()\n",
        "clfs = [svc, gnb, dtc]\n",
        "clfs_names = ['svc', 'gnb', 'dtc']\n",
        "\n",
        "#Calculations\n",
        "from sklearn.model_selection import ShuffleSplit, cross_val_score\n",
        "\n",
        "cv_ss = ShuffleSplit(n_splits=5, random_state=0)\n",
        "scores = list()\n",
        "for clf in clfs:\n",
        "  scores.append(cross_val_score(clf, data, target, cv=cv_ss, n_jobs=-1))"
      ],
      "metadata": {
        "id": "bdG_lBolbXSk"
      },
      "execution_count": 84,
      "outputs": []
    },
    {
      "cell_type": "code",
      "source": [
        "#Comparison\n",
        "from statistics import stdev, mean\n",
        "\n",
        "print('classifier \\t mean accuracy \\t standard deviation')\n",
        "for i in range(len(clfs)):\n",
        "  print(clfs_names[i], '\\t', mean(scores[i]), '\\t', stdev(scores[i]))"
      ],
      "metadata": {
        "colab": {
          "base_uri": "https://localhost:8080/"
        },
        "id": "XeTy7giwiuRo",
        "outputId": "8b3083b1-89dd-4a59-a452-6989a7200ad7"
      },
      "execution_count": 85,
      "outputs": [
        {
          "output_type": "stream",
          "name": "stdout",
          "text": [
            "classifier \t mean accuracy \t standard deviation\n",
            "svc \t 0.9789333333333333 \t 0.004152643067305979\n",
            "gnb \t 0.8818666666666667 \t 0.011297984087634577\n",
            "dtc \t 0.9616 \t 0.0048442405665559815\n"
          ]
        }
      ]
    },
    {
      "cell_type": "markdown",
      "source": [
        "As both mean accuracy and standard deviation are the smallest for ***svc***, therefore it is the best classification."
      ],
      "metadata": {
        "id": "tLIWnYZ7jC9u"
      }
    },
    {
      "cell_type": "markdown",
      "source": [
        "#Dataset split\n",
        "2. You must split the dataset into a training set and a disjoint validation set. The split\n",
        "must be random, i.e. you must generate a random permutation and use it to split the\n",
        "overall dataset into a training and a validation set."
      ],
      "metadata": {
        "id": "36ysVsrdFPaw"
      }
    },
    {
      "cell_type": "code",
      "source": [
        "from sklearn.model_selection import train_test_split\n",
        "X_train, X_test, y_train, y_test = train_test_split(data, target, test_size=0.5, random_state=0)"
      ],
      "metadata": {
        "id": "Auoxr4zsPibM"
      },
      "execution_count": 86,
      "outputs": []
    },
    {
      "cell_type": "markdown",
      "source": [
        "#Class probabilities, F-measure and Area Under the Curve\n",
        "\n",
        "3. Train a Support Vector Machine on the training set to estimate class probabilities.\n",
        "Then use the validation set to measure its performance by the F-measure and the Area\n",
        "Under the Curve."
      ],
      "metadata": {
        "id": "ccpmtJwdFULe"
      }
    },
    {
      "cell_type": "code",
      "source": [
        "# Support Vector Machine training\n",
        "clf = svm.SVC(probability=True) \n",
        "clf.fit(X_train, y_train)\n",
        "\n",
        "# SVM accuracy / probability of correct estimation\n",
        "clf.score(X_test, y_test)"
      ],
      "metadata": {
        "colab": {
          "base_uri": "https://localhost:8080/"
        },
        "id": "b6vVk-8ZoGJT",
        "outputId": "f18f2754-9d5e-4489-9773-248e98e715fa"
      },
      "execution_count": 87,
      "outputs": [
        {
          "output_type": "execute_result",
          "data": {
            "text/plain": [
              "0.992260475046704"
            ]
          },
          "metadata": {},
          "execution_count": 87
        }
      ]
    },
    {
      "cell_type": "code",
      "source": [
        "# Class probabilities for each sample from the training set\n",
        "clf.predict_proba(X_test)"
      ],
      "metadata": {
        "colab": {
          "base_uri": "https://localhost:8080/"
        },
        "id": "zgaKMxxWo_HF",
        "outputId": "3f0fd5cd-b28b-4069-eab8-2756ea2171ff"
      },
      "execution_count": 88,
      "outputs": [
        {
          "output_type": "execute_result",
          "data": {
            "text/plain": [
              "array([[2.11638911e-04, 4.05930810e-04, 9.95150335e-01, ...,\n",
              "        1.16243182e-03, 3.15499295e-04, 1.67156563e-04],\n",
              "       [1.51965037e-03, 5.92623827e-04, 3.91124577e-04, ...,\n",
              "        4.51920314e-04, 9.91032286e-01, 8.72988424e-04],\n",
              "       [1.87330680e-04, 3.68007472e-04, 9.95222342e-01, ...,\n",
              "        7.39916291e-04, 2.95583295e-04, 1.88432139e-04],\n",
              "       ...,\n",
              "       [2.27253765e-03, 1.25288895e-03, 5.88482826e-04, ...,\n",
              "        2.89254024e-03, 9.83967716e-01, 7.69481561e-04],\n",
              "       [9.95140943e-01, 2.80575560e-04, 2.96842019e-04, ...,\n",
              "        5.17353004e-04, 1.58945173e-03, 3.51750745e-04],\n",
              "       [1.13585657e-04, 1.43581917e-04, 1.16391951e-04, ...,\n",
              "        1.26287140e-04, 2.85391431e-04, 1.82472792e-04]])"
            ]
          },
          "metadata": {},
          "execution_count": 88
        }
      ]
    },
    {
      "cell_type": "code",
      "source": [
        "# F-measure\n",
        "from sklearn.metrics import f1_score\n",
        "\n",
        "y_pred = clf.predict(X_test)\n",
        "print('Probabilities: ', f1_score(y_test, y_pred, average=None))\n",
        "print('Average probability:')\n",
        "f1_score(y_test, y_pred, average='weighted')"
      ],
      "metadata": {
        "colab": {
          "base_uri": "https://localhost:8080/"
        },
        "id": "CzXRaNw_qkkF",
        "outputId": "a7e70df6-14ac-4c1f-f47a-00df6a20ec65"
      },
      "execution_count": 89,
      "outputs": [
        {
          "output_type": "stream",
          "name": "stdout",
          "text": [
            "Probabilities:  [0.99465241 0.97428958 0.99261084 0.98255814 0.99746835 0.99438202\n",
            " 0.99858156 0.99625468 0.99598394 0.99468085]\n",
            "Average probability:\n"
          ]
        },
        {
          "output_type": "execute_result",
          "data": {
            "text/plain": [
              "0.9922365629581751"
            ]
          },
          "metadata": {},
          "execution_count": 89
        }
      ]
    },
    {
      "cell_type": "markdown",
      "source": [
        "F-measure takes values between 0 and 1, the higher the better. As recived value is very close to 1, we can say the classification is good."
      ],
      "metadata": {
        "id": "jWhw3jehraL2"
      }
    },
    {
      "cell_type": "code",
      "source": [
        "# Area Under the Receiver Operating Characteristic Curve (ROC AUC)\n",
        "from sklearn.metrics import f1_score, roc_auc_score\n",
        "roc_auc_score(y_test, clf.predict_proba(X_test), multi_class='ovr')"
      ],
      "metadata": {
        "colab": {
          "base_uri": "https://localhost:8080/"
        },
        "id": "EnAzTxQ_tHuk",
        "outputId": "9a092fee-6929-466a-d7f3-5785ddb31157"
      },
      "execution_count": 90,
      "outputs": [
        {
          "output_type": "execute_result",
          "data": {
            "text/plain": [
              "0.9999549004907031"
            ]
          },
          "metadata": {},
          "execution_count": 90
        }
      ]
    },
    {
      "cell_type": "markdown",
      "source": [
        "# Binary set: ROC curve and AUC\n",
        "\n",
        "4. Now you will have to use a binary classification dataset. Either you download a new\n",
        "one or simplify the dataset that you already have to binarize it. Then you must plot the\n",
        "ROC curve for the binary classification problem and compute the Area Under the Curve\n",
        "(AUC)."
      ],
      "metadata": {
        "id": "65hIAH3gFheg"
      }
    },
    {
      "cell_type": "code",
      "source": [
        "# Load and train binary dataset\n",
        "from sklearn.datasets import load_breast_cancer\n",
        "from sklearn.linear_model import LogisticRegression\n",
        "\n",
        "X, y = load_breast_cancer(return_X_y=True)\n",
        "X_train,X_test,y_train,y_test = train_test_split(X,y,test_size=0.3,random_state=0) \n",
        "\n",
        "clf = LogisticRegression(solver=\"liblinear\", random_state=0).fit(X_train, y_train)"
      ],
      "metadata": {
        "id": "NSt_vXlPuYaw"
      },
      "execution_count": 91,
      "outputs": []
    },
    {
      "cell_type": "code",
      "source": [
        "# AUC computation\n",
        "from sklearn.metrics import roc_auc_score\n",
        "roc_auc_score(y_test, clf.predict_proba(X_test)[:, 1])"
      ],
      "metadata": {
        "colab": {
          "base_uri": "https://localhost:8080/"
        },
        "id": "cNwbVJb4u3iF",
        "outputId": "7488db81-3a16-4eb5-87f1-58b67297e0a9"
      },
      "execution_count": 92,
      "outputs": [
        {
          "output_type": "execute_result",
          "data": {
            "text/plain": [
              "0.996031746031746"
            ]
          },
          "metadata": {},
          "execution_count": 92
        }
      ]
    },
    {
      "cell_type": "code",
      "source": [
        "# ROC curve plotting\n",
        "from sklearn.metrics import roc_curve\n",
        "import matplotlib.pyplot as plt\n",
        "\n",
        "y_pred_proba = clf.predict_proba(X_test)[:,1]\n",
        "fpr, tpr, _ = roc_curve(y_test,  y_pred_proba)\n",
        "\n",
        "#create ROC curve\n",
        "plt.plot(fpr,tpr)\n",
        "plt.ylabel('True Positive Rate')\n",
        "plt.xlabel('False Positive Rate')\n",
        "plt.show()"
      ],
      "metadata": {
        "colab": {
          "base_uri": "https://localhost:8080/",
          "height": 279
        },
        "id": "PIEIbBCiu_K_",
        "outputId": "27e0b1bb-654b-4d84-8d54-3d16bb0dc690"
      },
      "execution_count": 93,
      "outputs": [
        {
          "output_type": "display_data",
          "data": {
            "text/plain": [
              "<Figure size 432x288 with 1 Axes>"
            ],
            "image/png": "[encoded data removed]"
          },
          "metadata": {
            "needs_background": "light"
          }
        }
      ]
    },
    {
      "cell_type": "markdown",
      "source": [
        "*The more that the curve hugs the top left corner of the plot, the better the model does at classifying the data into categories.* Therefore, this visualization supports previous his AUC score. Model is very good at classification"
      ],
      "metadata": {
        "id": "bEMuFHYNx5R2"
      }
    },
    {
      "cell_type": "markdown",
      "source": [
        "# Binary set: Grid search and max_depth optimization\n",
        "\n",
        "5. With the binary dataset, you must carry out a grid search to optimize the max_depth\n",
        "parameter of a random forest classifier."
      ],
      "metadata": {
        "id": "bL1Kk3OVFlJn"
      }
    },
    {
      "cell_type": "code",
      "source": [
        "# Data\n",
        "# X_train,X_test,y_train,y_test\n",
        "\n",
        "# Create classifier\n",
        "from sklearn.ensemble import RandomForestClassifier\n",
        "rf_clf = RandomForestClassifier(max_depth=2, random_state=0)\n",
        "# clf.fit(X_train, y_train)\n",
        "\n",
        "# Grid search\n",
        "from sklearn.model_selection import GridSearchCV, cross_val_score\n",
        "\n",
        "# estimator.get_params().keys()\n",
        "params = {\n",
        "  # 'bootstrap': [True, False], #method for sampling data points (with or without replacement)\n",
        "  'max_depth': [1, 2, 3, 4, 5, 6, 7, 8, 9 , 10, 20, 30, 40, 50, 60, 70, 80, 90, 100, None], #max number of levels in each decision tree\n",
        "  # 'max_features': ['auto', 'sqrt'], #nr of features considered while splitting\n",
        "  # 'min_samples_leaf': [1, 2, 4], #min number of data points allowed in a leaf node\n",
        "  # 'min_samples_split': [2, 5, 10], #min number of data points placed in a node before the node is split\n",
        "  # 'n_estimators': [10, 20, 30, 40, 50, 60, 70, 80, 90, 100, 200, 400, 600, 800, 1000, 1200, 1400, 1600, 1800, 2000], #number of trees in the forest\n",
        "}\n",
        "\n",
        "clf = GridSearchCV(estimator=rf_clf, param_grid=params, n_jobs=-1)\n",
        "clf.fit(X_train, y_train)"
      ],
      "metadata": {
        "colab": {
          "base_uri": "https://localhost:8080/"
        },
        "id": "6tt163K401NW",
        "outputId": "749da3ac-4713-4473-ff29-01bb20c7a91f"
      },
      "execution_count": 94,
      "outputs": [
        {
          "output_type": "execute_result",
          "data": {
            "text/plain": [
              "GridSearchCV(estimator=RandomForestClassifier(max_depth=2, random_state=0),\n",
              "             n_jobs=-1,\n",
              "             param_grid={'max_depth': [1, 2, 3, 4, 5, 6, 7, 8, 9, 10, 20, 30,\n",
              "                                       40, 50, 60, 70, 80, 90, 100, None]})"
            ]
          },
          "metadata": {},
          "execution_count": 94
        }
      ]
    },
    {
      "cell_type": "code",
      "source": [
        "clf.best_params_"
      ],
      "metadata": {
        "colab": {
          "base_uri": "https://localhost:8080/"
        },
        "id": "EptmIZPx8hhj",
        "outputId": "d09f3600-8883-4f07-c7cd-4af477469785"
      },
      "execution_count": 95,
      "outputs": [
        {
          "output_type": "execute_result",
          "data": {
            "text/plain": [
              "{'max_depth': 7}"
            ]
          },
          "metadata": {},
          "execution_count": 95
        }
      ]
    },
    {
      "cell_type": "markdown",
      "source": [
        "Considering remaining parameters to be default, best *max_dept* is equal to **7**"
      ],
      "metadata": {
        "id": "3cF2vSG19BO4"
      }
    },
    {
      "cell_type": "markdown",
      "source": [
        "# Binary set: cross validated score for grid search\n",
        "\n",
        "6. Finally, you must measure with a cross validated score the prediction performance of\n",
        "the optimized estimator obtained in step 5. Use 10-fold cross-validation for such\n",
        "measurement. Please visit:\n",
        "https://scikit-learn.org/stable/modules/generated/sklearn.model_selection.cross_val_score.html"
      ],
      "metadata": {
        "id": "e9mogixeFoFZ"
      }
    },
    {
      "cell_type": "code",
      "source": [
        "from sklearn.model_selection import cross_val_score\n",
        "\n",
        "clf_best = clf.best_estimator_\n",
        "scores = cross_val_score(clf_best, X_train, y_train, cv=10)\n",
        "mean(scores)"
      ],
      "metadata": {
        "colab": {
          "base_uri": "https://localhost:8080/"
        },
        "id": "H-ZvpLr7-HC6",
        "outputId": "6997d30e-353b-4f4b-f406-d871b0b7d0cf"
      },
      "execution_count": 96,
      "outputs": [
        {
          "output_type": "execute_result",
          "data": {
            "text/plain": [
              "0.9573717948717948"
            ]
          },
          "metadata": {},
          "execution_count": 96
        }
      ]
    },
    {
      "cell_type": "markdown",
      "source": [
        "Value of the score for the best tree depth parameter is ***~0.957***"
      ],
      "metadata": {
        "id": "pm0oku0FARSr"
      }
    },
    {
      "cell_type": "markdown",
      "source": [
        "!wget -nc https://raw.githubusercontent.com/brpy/colab-pdf/master/colab_pdf.py\n",
        "from colab_pdf import colab_pdf\n",
        "colab_pdf('Jakub Maciazek - ModelSelection.ipynb')"
      ],
      "metadata": {
        "id": "QR7ngB9_Fw40"
      }
    }
  ]
}