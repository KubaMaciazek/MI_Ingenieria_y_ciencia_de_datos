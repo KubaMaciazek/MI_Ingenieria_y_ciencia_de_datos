{
  "nbformat": 4,
  "nbformat_minor": 0,
  "metadata": {
    "kernelspec": {
      "display_name": "Python 3",
      "language": "python",
      "name": "python3"
    },
    "language_info": {
      "codemirror_mode": {
        "name": "ipython",
        "version": 3
      },
      "file_extension": ".py",
      "mimetype": "text/x-python",
      "name": "python",
      "nbconvert_exporter": "python",
      "pygments_lexer": "ipython3",
      "version": "3.6.4"
    },
    "colab": {
      "provenance": []
    }
  },
  "cells": [
    {
      "cell_type": "markdown",
      "source": [
        "# Overview\n",
        "\n",
        "Fot this workshop, same dataset as before was choosen. *Pendigits* is a Pen-Based Recognition of Handwritten Digits Data Set from LIBSVM.\n",
        "\n",
        "The set is split into two files, learning set of 7,494 samples, and testing one of 3,498 samples. For the purposes of this workshop, only the first one will be used.\n",
        "\n",
        "There are 10 classes across the dataspace."
      ],
      "metadata": {
        "id": "nlx35a0WkmtI"
      }
    },
    {
      "cell_type": "markdown",
      "source": [
        "# 1. Load data\n",
        "\n",
        "1. You must load the machine learning dataset that you already used in the Introduction\n",
        "section. This time the class labels are not going to be used, since we want the clustering\n",
        "algorithms to discover clusters in the data without any prior information about the\n",
        "classes."
      ],
      "metadata": {
        "id": "cznGix2ekqhJ"
      }
    },
    {
      "cell_type": "code",
      "source": [
        "#Load dataset\n",
        "from sklearn import datasets\n",
        "\n",
        "pendings = datasets.load_svmlight_file('/content/pendigits.txt')\n",
        "X = pendings[0].toarray()"
      ],
      "metadata": {
        "id": "fCGDM5sMmTXE"
      },
      "execution_count": 34,
      "outputs": []
    },
    {
      "cell_type": "markdown",
      "source": [
        "2. Run K-means on the dataset with K ranging from 2 to 10 clusters. Then plot the\n",
        "resulting Mean Squared Error for each considered value of K. Please see:\n",
        "http://scikit-learn.org/stable/tutorial/statistical_inference/unsupervised_learning.html"
      ],
      "metadata": {
        "id": "2gNiNsbHku-u"
      }
    },
    {
      "cell_type": "code",
      "source": [
        "# Calculate mean square errors\n",
        "\n",
        "from sklearn import cluster\n",
        "import numpy as np\n",
        "\n",
        "models = list()\n",
        "errors = list()\n",
        "\n",
        "for k in range(2, 11):\n",
        "  model = cluster.KMeans(n_clusters=k).fit(X)\n",
        "  models.append(model)\n",
        "  sum_sq_errors = model.inertia_\n",
        "  errors.append(sum_sq_errors/len(X))\n",
        "\n",
        "errors"
      ],
      "metadata": {
        "colab": {
          "base_uri": "https://localhost:8080/"
        },
        "id": "vGiKVvBAnad2",
        "outputId": "22e2bcf0-68f9-4118-abad-2e01dc860d0b"
      },
      "execution_count": 35,
      "outputs": [
        {
          "output_type": "execute_result",
          "data": {
            "text/plain": [
              "[11678.381866649326,\n",
              " 9347.719422156099,\n",
              " 7763.857928685001,\n",
              " 6866.160866561779,\n",
              " 6088.979935557081,\n",
              " 5508.760580593802,\n",
              " 5173.818027891562,\n",
              " 4859.663198508361,\n",
              " 4606.2829486035835]"
            ]
          },
          "metadata": {},
          "execution_count": 35
        }
      ]
    },
    {
      "cell_type": "code",
      "source": [
        "# Plot the chart of mean square errors\n",
        "\n",
        "import matplotlib.pyplot as plt\n",
        "\n",
        "plt.figure()\n",
        "plt.plot(range(2, 11), errors)\n",
        "plt.xlabel(\"Number of cluster - k\")\n",
        "plt.ylabel(\"Mean Squared Error\")\n",
        "plt.show()"
      ],
      "metadata": {
        "colab": {
          "base_uri": "https://localhost:8080/",
          "height": 282
        },
        "id": "0tZaXuPfI4nd",
        "outputId": "acdc65a2-75b8-416d-a209-368613313f68"
      },
      "execution_count": 36,
      "outputs": [
        {
          "output_type": "display_data",
          "data": {
            "text/plain": [
              "<Figure size 432x288 with 1 Axes>"
            ],
            "image/png": "[encoded data removed]"
          },
          "metadata": {
            "needs_background": "light"
          }
        }
      ]
    },
    {
      "cell_type": "markdown",
      "source": [
        "Following elbow criterion method, optimal value k for this problem would be 7, as it is the smallest value, for which squarred error is not growing rapidly."
      ],
      "metadata": {
        "id": "it3UR8d7J22t"
      }
    },
    {
      "cell_type": "markdown",
      "source": [
        "3. Run mean shift clustering with different bandwidths. You will have to find out a\n",
        "relevant range of possible bandwidths. Then plot the obtained Mean Squared Error and\n",
        "the number of discovered clusters for the considered bandwidths. Please see:\n",
        "http://scikit-learn.org/stable/modules/generated/sklearn.cluster.MeanShift.html"
      ],
      "metadata": {
        "id": "1yngYHozkzEM"
      }
    },
    {
      "cell_type": "code",
      "source": [
        "# Estimate bandwidth\n",
        "from sklearn.cluster import estimate_bandwidth\n",
        "\n",
        "bandwidth = estimate_bandwidth(X)\n",
        "print(bandwidth)"
      ],
      "metadata": {
        "colab": {
          "base_uri": "https://localhost:8080/"
        },
        "id": "p22DNgvGdvjh",
        "outputId": "ad615732-63dd-463f-fa05-c6a60e5a2a70"
      },
      "execution_count": 67,
      "outputs": [
        {
          "output_type": "stream",
          "name": "stdout",
          "text": [
            "150.16700191287174\n"
          ]
        }
      ]
    },
    {
      "cell_type": "code",
      "source": [
        "bandwidths = [10, 30, 50, 70, 90, 110, 130, 150]"
      ],
      "metadata": {
        "id": "ygfjY-GQeMed"
      },
      "execution_count": 80,
      "outputs": []
    },
    {
      "cell_type": "code",
      "source": [
        "# Calculate models\n",
        "\n",
        "from sklearn.cluster import MeanShift\n",
        "\n",
        "models = list()\n",
        "\n",
        "for b in bandwidths:\n",
        "  cluster = MeanShift(bandwidth=b).fit(X)\n",
        "  models.append(cluster)"
      ],
      "metadata": {
        "id": "gsp-sabfnbNR"
      },
      "execution_count": 81,
      "outputs": []
    },
    {
      "cell_type": "code",
      "source": [
        "# Calculate data for the plots\n",
        "\n",
        "import math\n",
        "\n",
        "nr_of_clusters = list();\n",
        "errors = list()\n",
        "\n",
        "for m in models:\n",
        "  nr_of_clusters.append(len(m.cluster_centers_))\n",
        "  sum_sq_errors = 0\n",
        "  for i in range(len(X)):\n",
        "    sum_sq_errors += math.dist(X[i], m.cluster_centers_[m.labels_[i]])\n",
        "  sum_sq_errors /= len(X)\n",
        "  errors.append(sum_sq_errors)\n",
        "\n",
        "print(nr_of_clusters)\n",
        "print(errors)"
      ],
      "metadata": {
        "colab": {
          "base_uri": "https://localhost:8080/"
        },
        "id": "l1t-En5nUI7b",
        "outputId": "3d572310-ccb3-40da-f2a7-d4c7a73e9179"
      },
      "execution_count": 94,
      "outputs": [
        {
          "output_type": "stream",
          "name": "stdout",
          "text": [
            "[7343, 1116, 117, 26, 13, 2, 1, 1]\n",
            "[0.17604421860913777, 25.806215651038727, 50.84647704463262, 62.16156246237022, 74.77129060397984, 113.39573996415712, 122.92589113173243, 122.33802795322393]\n"
          ]
        }
      ]
    },
    {
      "cell_type": "code",
      "source": [
        "plt.figure()\n",
        "plt.plot(bandwidths, errors)\n",
        "plt.xlabel(\"Bandwidth\")\n",
        "plt.ylabel(\"Mean Squared Error\")\n",
        "plt.show()"
      ],
      "metadata": {
        "id": "dYQQe8_LMyec",
        "colab": {
          "base_uri": "https://localhost:8080/",
          "height": 279
        },
        "outputId": "2d637e2c-47e4-47f3-c1c6-6406f995e4e4"
      },
      "execution_count": 95,
      "outputs": [
        {
          "output_type": "display_data",
          "data": {
            "text/plain": [
              "<Figure size 432x288 with 1 Axes>"
            ],
            "image/png": "[encoded data removed]"
          },
          "metadata": {
            "needs_background": "light"
          }
        }
      ]
    },
    {
      "cell_type": "code",
      "source": [
        "plt.figure()\n",
        "plt.plot(bandwidths, nr_of_clusters)\n",
        "plt.xlabel(\"Bandwidth\")\n",
        "plt.ylabel(\"Nr of clusters\")\n",
        "plt.show()"
      ],
      "metadata": {
        "colab": {
          "base_uri": "https://localhost:8080/",
          "height": 279
        },
        "id": "uS7sXRGno6GJ",
        "outputId": "19e9a986-1359-45aa-9f86-16ad695bbd11"
      },
      "execution_count": 96,
      "outputs": [
        {
          "output_type": "display_data",
          "data": {
            "text/plain": [
              "<Figure size 432x288 with 1 Axes>"
            ],
            "image/png": "[encoded data removed]"
          },
          "metadata": {
            "needs_background": "light"
          }
        }
      ]
    },
    {
      "cell_type": "markdown",
      "source": [
        "As we can see in the 2nd graph, number of clusters significantly decreases for bandwidth values bigger than 30. Moreover, it becomes almost steady for values bigger then 50.\n",
        "\n",
        "On the other hand, mean square error significantly increases until value of 110.\n",
        "\n",
        "Tkaing both this information into account, best bandwidth value would be from the range [30;50]. However, error for value 30 would be half of that for value of 50, which means this value wouldprobably be better. Unless we want to compromise between nr of clusters and error, then value of 40 would be the best."
      ],
      "metadata": {
        "id": "ksjH7gHnqBzj"
      }
    }
  ]
}