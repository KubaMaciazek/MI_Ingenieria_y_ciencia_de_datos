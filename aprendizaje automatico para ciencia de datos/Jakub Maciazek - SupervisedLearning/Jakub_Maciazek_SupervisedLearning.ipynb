{
  "nbformat": 4,
  "nbformat_minor": 0,
  "metadata": {
    "kernelspec": {
      "display_name": "Python 3",
      "language": "python",
      "name": "python3"
    },
    "language_info": {
      "codemirror_mode": {
        "name": "ipython",
        "version": 3
      },
      "file_extension": ".py",
      "mimetype": "text/x-python",
      "name": "python",
      "nbconvert_exporter": "python",
      "pygments_lexer": "ipython3",
      "version": "3.6.4"
    },
    "colab": {
      "provenance": []
    }
  },
  "cells": [
    {
      "cell_type": "markdown",
      "source": [
        "# Overview\n",
        "\n",
        "For this task same dataset *pendigits* as before was choosen. It is a Pen-Based Recognition of Handwritten Digits Data Set from LIBSVM.\n",
        "\n",
        "The set is split into two files, learning set of 7,494 samples, and testing one of 3,498 samples. In order to randomize datasets, in this exercise only learning set will be used, and randomly split into new learning and testing set.\n",
        "\n",
        "There are 10 classes across the dataspace."
      ],
      "metadata": {
        "id": "9JCqCmh51QYP"
      }
    },
    {
      "cell_type": "markdown",
      "source": [
        "# Data upload and split"
      ],
      "metadata": {
        "id": "OzhXbjwP1a60"
      }
    },
    {
      "cell_type": "code",
      "source": [
        "#Load dataset\n",
        "from sklearn import datasets\n",
        "\n",
        "pendings = datasets.load_svmlight_file('/content/pendigits.txt')\n",
        "target = pendings[-1]\n",
        "data = pendings[0]\n",
        "\n",
        "# Split data in train and test data\n",
        "# A random permutation, to split the data randomly\n",
        "import numpy as np\n",
        "\n",
        "# np.random.seed(0)\n",
        "# indices = np.random.permutation(len(data))\n",
        "# X_train = data[indices[:-10]]\n",
        "# y_train = target[indices[:-10]]\n",
        "# X_test  = data[indices[-10:]]\n",
        "# y_test  = target[indices[-10:]]\n",
        "\n",
        "data = data.toarray()\n",
        "\n",
        "# alternatively:\n",
        "from sklearn.model_selection import train_test_split\n",
        "X_train, X_test, y_train, y_test = train_test_split(data, target, test_size=0.5, random_state=0)"
      ],
      "metadata": {
        "id": "Lx7b9vMQ1h_y"
      },
      "execution_count": 62,
      "outputs": []
    },
    {
      "cell_type": "markdown",
      "source": [
        "# Naive Bayes classifier\n",
        "\n",
        "This section presents results for naive Bayes classifier used for learning and prediction."
      ],
      "metadata": {
        "id": "sKGmEgpv1iiU"
      }
    },
    {
      "cell_type": "code",
      "source": [
        "from sklearn.naive_bayes import GaussianNB\n",
        "\n",
        "gnb = GaussianNB()\n",
        "y_pred = gnb.fit(X_train, y_train).predict(X_test)\n",
        "\n",
        "print(\"Number of mislabeled points out of a total %d points : %d\" % (X_test.shape[0], (y_test != y_pred).sum()))"
      ],
      "metadata": {
        "colab": {
          "base_uri": "https://localhost:8080/"
        },
        "id": "tc3nH8Py1mK8",
        "outputId": "48a22c64-18eb-4a92-bfe6-6198fbf144eb"
      },
      "execution_count": 63,
      "outputs": [
        {
          "output_type": "stream",
          "name": "stdout",
          "text": [
            "Number of mislabeled points out of a total 3747 points : 462\n"
          ]
        }
      ]
    },
    {
      "cell_type": "markdown",
      "source": [
        "# Decission Tree classifier\n",
        "\n",
        "This section presents results for Decission Tree classifier used for learning and prediction."
      ],
      "metadata": {
        "id": "DhvZqRro1nTZ"
      }
    },
    {
      "cell_type": "code",
      "source": [
        "from sklearn import tree\n",
        "\n",
        "# Training\n",
        "clf = tree.DecisionTreeClassifier()\n",
        "clf = clf.fit(X_train, y_train)\n",
        "\n",
        "# Display tree\n",
        "tree.plot_tree(clf)\n",
        "\n",
        "# Predicting\n",
        "y_pred = clf.predict(X_test)\n",
        "\n",
        "print(\"Number of mislabeled points out of a total %d points : %d\" % (X_test.shape[0], (y_test != y_pred).sum()))"
      ],
      "metadata": {
        "colab": {
          "base_uri": "https://localhost:8080/",
          "height": 265
        },
        "id": "4dEy5u_e1qD3",
        "outputId": "583cc9d8-bf5d-4479-ed95-a983dec2cb85"
      },
      "execution_count": 64,
      "outputs": [
        {
          "output_type": "stream",
          "name": "stdout",
          "text": [
            "Number of mislabeled points out of a total 3747 points : 194\n"
          ]
        },
        {
          "output_type": "display_data",
          "data": {
            "text/plain": [
              "<Figure size 432x288 with 1 Axes>"
            ],
            "image/png": "[encoded data removed]"
          },
          "metadata": {
            "needs_background": "light"
          }
        }
      ]
    },
    {
      "cell_type": "markdown",
      "source": [
        "# Multilayer perceptron classifier\n",
        "\n",
        "This section presents results for multilayer perceptron classifier used for learning and prediction."
      ],
      "metadata": {
        "id": "ua_PE_Sz1qrs"
      }
    },
    {
      "cell_type": "code",
      "source": [
        "from sklearn.neural_network import MLPClassifier\n",
        "\n",
        "clf = MLPClassifier(solver='lbfgs', alpha=1e-5, hidden_layer_sizes=(5, 2), random_state=1)\n",
        "clf = clf.fit(X_train, y_train)\n",
        "\n",
        "y_pred = clf.predict(X_test)\n",
        "print(\"Number of mislabeled points out of a total %d points : %d\" % (X_test.shape[0], (y_test != y_pred).sum()))\n",
        "\n",
        "\n",
        "clf = MLPClassifier(solver='lbfgs', alpha=1e-5, hidden_layer_sizes=(15,), random_state=1)\n",
        "clf = clf.fit(X_train, y_train)\n",
        "\n",
        "y_pred = clf.predict(X_test)\n",
        "print(\"Number of mislabeled points out of a total %d points : %d\" % (X_test.shape[0], (y_test != y_pred).sum()))"
      ],
      "metadata": {
        "colab": {
          "base_uri": "https://localhost:8080/"
        },
        "id": "RJOQe9w41uTn",
        "outputId": "fe8dde95-7384-4813-bc9a-7f8c2ccc6cb5"
      },
      "execution_count": 65,
      "outputs": [
        {
          "output_type": "stream",
          "name": "stderr",
          "text": [
            "/usr/local/lib/python3.8/dist-packages/sklearn/neural_network/_multilayer_perceptron.py:549: ConvergenceWarning: lbfgs failed to converge (status=1):\n",
            "STOP: TOTAL NO. of ITERATIONS REACHED LIMIT.\n",
            "\n",
            "Increase the number of iterations (max_iter) or scale the data as shown in:\n",
            "    https://scikit-learn.org/stable/modules/preprocessing.html\n",
            "  self.n_iter_ = _check_optimize_result(\"lbfgs\", opt_res, self.max_iter)\n"
          ]
        },
        {
          "output_type": "stream",
          "name": "stdout",
          "text": [
            "Number of mislabeled points out of a total 3747 points : 2083\n",
            "Number of mislabeled points out of a total 3747 points : 601\n"
          ]
        },
        {
          "output_type": "stream",
          "name": "stderr",
          "text": [
            "/usr/local/lib/python3.8/dist-packages/sklearn/neural_network/_multilayer_perceptron.py:549: ConvergenceWarning: lbfgs failed to converge (status=1):\n",
            "STOP: TOTAL NO. of ITERATIONS REACHED LIMIT.\n",
            "\n",
            "Increase the number of iterations (max_iter) or scale the data as shown in:\n",
            "    https://scikit-learn.org/stable/modules/preprocessing.html\n",
            "  self.n_iter_ = _check_optimize_result(\"lbfgs\", opt_res, self.max_iter)\n"
          ]
        }
      ]
    },
    {
      "cell_type": "markdown",
      "source": [
        "# Summary\n",
        "\n",
        "Among classifiers best results were achieved by Decision Tree, then Naive Bayes classifier, and finally Multilayer perceptron classifiers. Hovever, those last ones may have performed better given higher number of iterations."
      ],
      "metadata": {
        "id": "BGYWgaQv1yV9"
      }
    }
  ]
}