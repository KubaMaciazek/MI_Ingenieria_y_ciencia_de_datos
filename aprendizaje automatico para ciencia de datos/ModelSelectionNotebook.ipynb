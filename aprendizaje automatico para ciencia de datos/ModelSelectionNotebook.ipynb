{
  "nbformat": 4,
  "nbformat_minor": 0,
  "metadata": {
    "kernelspec": {
      "display_name": "Python 3",
      "language": "python",
      "name": "python3"
    },
    "language_info": {
      "codemirror_mode": {
        "name": "ipython",
        "version": 3
      },
      "file_extension": ".py",
      "mimetype": "text/x-python",
      "name": "python",
      "nbconvert_exporter": "python",
      "pygments_lexer": "ipython3",
      "version": "3.6.4"
    },
    "colab": {
      "name": "ModelSelection.ipynb",
      "provenance": []
    }
  },
  "cells": [
    {
      "cell_type": "markdown",
      "metadata": {
        "id": "0CPOm0sje91s",
        "colab_type": "text"
      },
      "source": [
        "# Model scoring\n",
        "See http://scikit-learn.org/stable/tutorial/statistical_inference/model_selection.html\n",
        "Please note that the Support Vector Machine model is trained with all but the last 100 samples, and it is scored with the 100 last samples. The score is the mean accuracy measured over the test set."
      ]
    },
    {
      "cell_type": "code",
      "metadata": {
        "id": "fq9CxvxUe91y",
        "colab_type": "code",
        "colab": {
          "base_uri": "https://localhost:8080/",
          "height": 34
        },
        "outputId": "57111fdd-a1ec-4374-916d-81767fbe4cb8"
      },
      "source": [
        "from sklearn import datasets, svm\n",
        "digits = datasets.load_digits()\n",
        "X_digits = digits.data\n",
        "y_digits = digits.target\n",
        "svc = svm.SVC(C=1, kernel='linear')\n",
        "svc.fit(X_digits[:-100], y_digits[:-100])\n",
        "svc.score(X_digits[-100:], y_digits[-100:])"
      ],
      "execution_count": 1,
      "outputs": [
        {
          "output_type": "execute_result",
          "data": {
            "text/plain": [
              "0.98"
            ]
          },
          "metadata": {
            "tags": []
          },
          "execution_count": 1
        }
      ]
    },
    {
      "cell_type": "markdown",
      "metadata": {
        "id": "9U0oVHOXe915",
        "colab_type": "text"
      },
      "source": [
        "# k-fold cross-validation\n",
        "Here we carry out a 3-fold cross validation on the diabetes dataset"
      ]
    },
    {
      "cell_type": "code",
      "metadata": {
        "id": "xhm0JVjve915",
        "colab_type": "code",
        "colab": {
          "base_uri": "https://localhost:8080/",
          "height": 34
        },
        "outputId": "50fab0ba-9423-4a8b-9121-8f881c12d308"
      },
      "source": [
        "import numpy as np\n",
        "num_folds = 3\n",
        "X_folds = np.array_split(X_digits, num_folds)\n",
        "y_folds = np.array_split(y_digits, num_folds)\n",
        "scores = list()\n",
        "for k in range(num_folds):\n",
        "    # We use 'list' to copy, in order to 'pop' later on\n",
        "    X_train = list(X_folds)\n",
        "    X_test  = X_train.pop(k)\n",
        "    X_train = np.concatenate(X_train)\n",
        "    y_train = list(y_folds)\n",
        "    y_test  = y_train.pop(k)\n",
        "    y_train = np.concatenate(y_train)\n",
        "    scores.append(svc.fit(X_train, y_train).score(X_test, y_test))\n",
        "print(scores)"
      ],
      "execution_count": 2,
      "outputs": [
        {
          "output_type": "stream",
          "text": [
            "[0.9348914858096828, 0.9565943238731218, 0.9398998330550918]\n"
          ],
          "name": "stdout"
        }
      ]
    },
    {
      "cell_type": "markdown",
      "metadata": {
        "id": "bPybOnQAe91-",
        "colab_type": "text"
      },
      "source": [
        "# Cross-validation generators\n",
        "Here we use the KFold class to generate index sets for k-fold cross-validation"
      ]
    },
    {
      "cell_type": "code",
      "metadata": {
        "id": "tQXWrBToe91_",
        "colab_type": "code",
        "colab": {
          "base_uri": "https://localhost:8080/",
          "height": 68
        },
        "outputId": "5980033f-7bcc-4844-a064-8fcf1c480899"
      },
      "source": [
        "from sklearn.model_selection import KFold, cross_val_score\n",
        "X = [\"a\", \"a\", \"b\", \"c\", \"c\", \"c\"]\n",
        "k_fold = KFold(n_splits=3)\n",
        "for train_indices, test_indices in k_fold.split(X):\n",
        "    print('Train: %s | test: %s' % (train_indices, test_indices))"
      ],
      "execution_count": 3,
      "outputs": [
        {
          "output_type": "stream",
          "text": [
            "Train: [2 3 4 5] | test: [0 1]\n",
            "Train: [0 1 4 5] | test: [2 3]\n",
            "Train: [0 1 2 3] | test: [4 5]\n"
          ],
          "name": "stdout"
        }
      ]
    },
    {
      "cell_type": "markdown",
      "metadata": {
        "id": "xt5snEIse92F",
        "colab_type": "text"
      },
      "source": [
        "Use the generated index sets to carry out the cross-validation"
      ]
    },
    {
      "cell_type": "code",
      "metadata": {
        "id": "XGN_T0LJe92G",
        "colab_type": "code",
        "colab": {
          "base_uri": "https://localhost:8080/",
          "height": 34
        },
        "outputId": "42cc94e6-4f6a-477b-8d5b-496111ec1f8c"
      },
      "source": [
        "[svc.fit(X_digits[train], y_digits[train]).score(X_digits[test], y_digits[test])\n",
        "     for train, test in k_fold.split(X_digits)]"
      ],
      "execution_count": 4,
      "outputs": [
        {
          "output_type": "execute_result",
          "data": {
            "text/plain": [
              "[0.9348914858096828, 0.9565943238731218, 0.9398998330550918]"
            ]
          },
          "metadata": {
            "tags": []
          },
          "execution_count": 4
        }
      ]
    },
    {
      "cell_type": "markdown",
      "metadata": {
        "id": "SeQDhZ6Ke92K",
        "colab_type": "text"
      },
      "source": [
        "Use the cross_val_score helper to compute the cross-validated scores directly"
      ]
    },
    {
      "cell_type": "code",
      "metadata": {
        "id": "ZiQjJgCde92L",
        "colab_type": "code",
        "colab": {
          "base_uri": "https://localhost:8080/",
          "height": 34
        },
        "outputId": "2699ce3b-5399-4375-e103-8498fd16398e"
      },
      "source": [
        "cross_val_score(svc, X_digits, y_digits, cv=k_fold, n_jobs=-1)"
      ],
      "execution_count": 5,
      "outputs": [
        {
          "output_type": "execute_result",
          "data": {
            "text/plain": [
              "array([0.93489149, 0.95659432, 0.93989983])"
            ]
          },
          "metadata": {
            "tags": []
          },
          "execution_count": 5
        }
      ]
    },
    {
      "cell_type": "markdown",
      "metadata": {
        "id": "srCPLTyce92Q",
        "colab_type": "text"
      },
      "source": [
        "Use the precision as the score, rather than the mean accuracy"
      ]
    },
    {
      "cell_type": "code",
      "metadata": {
        "id": "yngr9xwce92R",
        "colab_type": "code",
        "colab": {
          "base_uri": "https://localhost:8080/",
          "height": 34
        },
        "outputId": "9039447b-cb97-4ad4-ddba-cc7509b606ad"
      },
      "source": [
        "cross_val_score(svc, X_digits, y_digits, cv=k_fold, scoring='precision_macro')"
      ],
      "execution_count": 6,
      "outputs": [
        {
          "output_type": "execute_result",
          "data": {
            "text/plain": [
              "array([0.93969761, 0.95911415, 0.94041254])"
            ]
          },
          "metadata": {
            "tags": []
          },
          "execution_count": 6
        }
      ]
    },
    {
      "cell_type": "markdown",
      "metadata": {
        "id": "OUVoL_ype92W",
        "colab_type": "text"
      },
      "source": [
        "Carry out a grid search to optimize the C parameter of a Support Vector Machine classifier"
      ]
    },
    {
      "cell_type": "code",
      "metadata": {
        "id": "2Ib-ybx9e92W",
        "colab_type": "code",
        "colab": {
          "base_uri": "https://localhost:8080/",
          "height": 238
        },
        "outputId": "0341cb75-9bf0-4524-a9bd-cd2d067a2865"
      },
      "source": [
        "from sklearn.model_selection import GridSearchCV, cross_val_score\n",
        "Cs = np.logspace(-6, -1, 10)\n",
        "clf = GridSearchCV(estimator=svc, param_grid=dict(C=Cs), n_jobs=-1)\n",
        "clf.fit(X_digits[:1000], y_digits[:1000])"
      ],
      "execution_count": 7,
      "outputs": [
        {
          "output_type": "execute_result",
          "data": {
            "text/plain": [
              "GridSearchCV(cv=None, error_score=nan,\n",
              "             estimator=SVC(C=1, break_ties=False, cache_size=200,\n",
              "                           class_weight=None, coef0=0.0,\n",
              "                           decision_function_shape='ovr', degree=3,\n",
              "                           gamma='scale', kernel='linear', max_iter=-1,\n",
              "                           probability=False, random_state=None, shrinking=True,\n",
              "                           tol=0.001, verbose=False),\n",
              "             iid='deprecated', n_jobs=-1,\n",
              "             param_grid={'C': array([1.00000000e-06, 3.59381366e-06, 1.29154967e-05, 4.64158883e-05,\n",
              "       1.66810054e-04, 5.99484250e-04, 2.15443469e-03, 7.74263683e-03,\n",
              "       2.78255940e-02, 1.00000000e-01])},\n",
              "             pre_dispatch='2*n_jobs', refit=True, return_train_score=False,\n",
              "             scoring=None, verbose=0)"
            ]
          },
          "metadata": {
            "tags": []
          },
          "execution_count": 7
        }
      ]
    },
    {
      "cell_type": "code",
      "metadata": {
        "id": "763FGBdre92Z",
        "colab_type": "code",
        "colab": {
          "base_uri": "https://localhost:8080/",
          "height": 34
        },
        "outputId": "b3809759-e928-4379-c37c-475077137501"
      },
      "source": [
        "clf.best_score_"
      ],
      "execution_count": 8,
      "outputs": [
        {
          "output_type": "execute_result",
          "data": {
            "text/plain": [
              "0.95"
            ]
          },
          "metadata": {
            "tags": []
          },
          "execution_count": 8
        }
      ]
    },
    {
      "cell_type": "code",
      "metadata": {
        "id": "tg8grj2Ie92b",
        "colab_type": "code",
        "colab": {
          "base_uri": "https://localhost:8080/",
          "height": 34
        },
        "outputId": "be3b875a-4edc-4182-ba45-5c185ebb0260"
      },
      "source": [
        "clf.best_estimator_.C"
      ],
      "execution_count": 9,
      "outputs": [
        {
          "output_type": "execute_result",
          "data": {
            "text/plain": [
              "0.0021544346900318843"
            ]
          },
          "metadata": {
            "tags": []
          },
          "execution_count": 9
        }
      ]
    },
    {
      "cell_type": "code",
      "metadata": {
        "id": "mQAVGg8Xe92e",
        "colab_type": "code",
        "colab": {
          "base_uri": "https://localhost:8080/",
          "height": 34
        },
        "outputId": "e6999247-8ff8-488a-9b91-3d98f6aaa2e1"
      },
      "source": [
        "# Prediction performance on test set is not as good as on train set\n",
        "clf.score(X_digits[1000:], y_digits[1000:])"
      ],
      "execution_count": 10,
      "outputs": [
        {
          "output_type": "execute_result",
          "data": {
            "text/plain": [
              "0.946047678795483"
            ]
          },
          "metadata": {
            "tags": []
          },
          "execution_count": 10
        }
      ]
    },
    {
      "cell_type": "markdown",
      "metadata": {
        "id": "C5aO37m-e92g",
        "colab_type": "text"
      },
      "source": [
        "Carry out a nested cross validation. In the inner loop, GridSearchCV optimizes the value of the C parameter. In the outer loop, cross_val_score measures the prediction performance of the optimized estimators obtained by GridSearchCV."
      ]
    },
    {
      "cell_type": "code",
      "metadata": {
        "id": "zUkCLxLhe92h",
        "colab_type": "code",
        "colab": {
          "base_uri": "https://localhost:8080/",
          "height": 34
        },
        "outputId": "2fc8e07a-0b3b-40c3-9398-75d15ee87914"
      },
      "source": [
        "cross_val_score(clf, X_digits, y_digits)"
      ],
      "execution_count": 11,
      "outputs": [
        {
          "output_type": "execute_result",
          "data": {
            "text/plain": [
              "array([0.94722222, 0.91666667, 0.96657382, 0.97493036, 0.93593315])"
            ]
          },
          "metadata": {
            "tags": []
          },
          "execution_count": 11
        }
      ]
    },
    {
      "cell_type": "markdown",
      "metadata": {
        "id": "cIfzFSI6e92k",
        "colab_type": "text"
      },
      "source": [
        "Set the value of the alpha parameter of a Lasso model automatically by cross validation"
      ]
    },
    {
      "cell_type": "code",
      "metadata": {
        "id": "ErF-PGTxe92l",
        "colab_type": "code",
        "colab": {
          "base_uri": "https://localhost:8080/",
          "height": 85
        },
        "outputId": "29d44cd0-9cc4-4376-e44e-6717fa8d2b1a"
      },
      "source": [
        "from sklearn import linear_model, datasets\n",
        "lasso = linear_model.LassoCV()\n",
        "diabetes = datasets.load_diabetes()\n",
        "X_diabetes = diabetes.data\n",
        "y_diabetes = diabetes.target\n",
        "lasso.fit(X_diabetes, y_diabetes)"
      ],
      "execution_count": 12,
      "outputs": [
        {
          "output_type": "execute_result",
          "data": {
            "text/plain": [
              "LassoCV(alphas=None, copy_X=True, cv=None, eps=0.001, fit_intercept=True,\n",
              "        max_iter=1000, n_alphas=100, n_jobs=None, normalize=False,\n",
              "        positive=False, precompute='auto', random_state=None,\n",
              "        selection='cyclic', tol=0.0001, verbose=False)"
            ]
          },
          "metadata": {
            "tags": []
          },
          "execution_count": 12
        }
      ]
    },
    {
      "cell_type": "code",
      "metadata": {
        "id": "TCQ44-m3e92n",
        "colab_type": "code",
        "colab": {
          "base_uri": "https://localhost:8080/",
          "height": 34
        },
        "outputId": "ef8d6a51-c730-4315-f2ce-ccf3c4c4e48f"
      },
      "source": [
        " # The estimator chose automatically its alpha:\n",
        "lasso.alpha_ "
      ],
      "execution_count": 13,
      "outputs": [
        {
          "output_type": "execute_result",
          "data": {
            "text/plain": [
              "0.003753767152692203"
            ]
          },
          "metadata": {
            "tags": []
          },
          "execution_count": 13
        }
      ]
    },
    {
      "cell_type": "code",
      "metadata": {
        "id": "dFKX78wge92p",
        "colab_type": "code",
        "colab": {}
      },
      "source": [
        ""
      ],
      "execution_count": 13,
      "outputs": []
    }
  ]
}