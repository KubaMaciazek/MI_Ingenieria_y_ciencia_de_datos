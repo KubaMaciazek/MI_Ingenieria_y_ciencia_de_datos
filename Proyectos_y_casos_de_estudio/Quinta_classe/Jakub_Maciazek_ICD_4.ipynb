{
  "cells": [
    {
      "cell_type": "code",
      "source": [
        "!apt-get install texlive texlive-xetex texlive-latex-extra pandoc\n",
        "!pip install pypandoc"
      ],
      "metadata": {
        "id": "ALudR7GlEJXW"
      },
      "execution_count": null,
      "outputs": []
    },
    {
      "cell_type": "markdown",
      "metadata": {
        "id": "_X3iQOqz3NIx"
      },
      "source": [
        "# Feature selection\n",
        "\n",
        "In this lesson, we will reduce the number of inputs for a machine learning technique. This can be modelled as an optimization problem: Feature selection problem. In this problem, we need to find the optimal feature subset that contributes most to our predicted variable. \n",
        "\n",
        "In order to solve this problem, we will use the algorithms presented in previous lessons: GA and VNS."
      ]
    },
    {
      "cell_type": "code",
      "source": [
        "from google.colab import drive\n",
        "drive.mount('/content/drive')"
      ],
      "metadata": {
        "colab": {
          "base_uri": "https://localhost:8080/"
        },
        "id": "EB-aTfm3DW45",
        "outputId": "d07961dd-73cd-4f5b-e1af-18d8be5169e4"
      },
      "execution_count": 2,
      "outputs": [
        {
          "output_type": "stream",
          "name": "stdout",
          "text": [
            "Mounted at /content/drive\n"
          ]
        }
      ]
    },
    {
      "cell_type": "markdown",
      "metadata": {
        "id": "j65bpOvX4kxB"
      },
      "source": [
        "## The dataset\n",
        "\n",
        "The dataset used is [Breast Cancer Wisconsin (Diagnostic)](https://archive.ics.uci.edu/ml/datasets/Breast+Cancer+Wisconsin+%28Diagnostic%29) which consists of 30 real-valued features. Features are computed from a digitized image of a fine needle aspirate (FNA) of a breast mass. They describe characteristics of the cell nuclei present in the image. It also includes the diagnosis (M = malignant, B = benign).\n",
        "\n",
        "In the next code, we provide a function to load and prepare the dataset for our experiments. It requires that the dataset file is in \"Colab Notebook\" directory of your drive. In the *Campus Virtual* you can find the dataset file. You have to download this file and upload it in the appropriate directory in your google drive."
      ]
    },
    {
      "cell_type": "code",
      "execution_count": 3,
      "metadata": {
        "colab": {
          "base_uri": "https://localhost:8080/"
        },
        "id": "xr3TQJrB6HDa",
        "outputId": "363f7374-c4a0-466b-a43d-18655b4c2f41"
      },
      "outputs": [
        {
          "output_type": "stream",
          "name": "stdout",
          "text": [
            "Drive already mounted at /content/drive; to attempt to forcibly remount, call drive.mount(\"/content/drive\", force_remount=True).\n"
          ]
        }
      ],
      "source": [
        "\n",
        "# libraries\n",
        "import numpy as np\n",
        "import pandas as pd\n",
        "from google.colab import drive\n",
        "import math\n",
        "import random\n",
        "import statistics\n",
        "from sklearn.neural_network import MLPClassifier\n",
        "from sklearn.model_selection import cross_val_score\n",
        "\n",
        "# Single seed for consistent results among different tests\n",
        "#random.seed(11)\n",
        "\n",
        "# For using our drive\n",
        "drive.mount('/content/drive')\n",
        "\n",
        "def load_data():\n",
        "  # Load CSV file from your oun google drive\n",
        "  data = pd.read_csv('/content/drive/MyDrive/Colab Notebooks/ICD_4_data.csv')\n",
        "\n",
        "  # Removed unnecesary columns\n",
        "  data.drop(['id','Unnamed: 32'],axis=1,inplace=True)\n",
        "\n",
        "  # Separate values from class\n",
        "  y = data['diagnosis']\n",
        "  x = data.drop('diagnosis',axis =1)\n",
        "\n",
        "  # Final preparation\n",
        "  y.replace(to_replace='M',value= 1,inplace=True)\n",
        "  y.replace(to_replace='B',value = 0,inplace=True)\n",
        "  return x, y"
      ]
    },
    {
      "cell_type": "markdown",
      "metadata": {
        "id": "DNIsMh1s54Mq"
      },
      "source": [
        "## Fitness function \n",
        "\n",
        "In feature selection problem, we usually can consider two kinds of objectives:\n",
        "* The number of features selected (`noFeatures`). It should be minimized.\n",
        "* The model performance (`accuracy`). It should be maximized.\n",
        "\n",
        "For this problem, we are going to use a Multi-layer Perceptron classifier ([`MLPClassifier()`](https://scikit-learn.org/stable/modules/generated/sklearn.neural_network.MLPClassifier.html)). This is an Artificial Neural Network for binary classification. \n",
        "\n",
        "We use the cross-validation F1 score from  trained on the individual’s solution as the accuracy value. F1 score is used as the accuracy metric because:\n",
        "\n",
        "* The dataset is quite imbalanced, and using `accuracy_score` could indicate a slight bias towards the majority class.\n",
        "* A high f1 score indicates a better classification, i.e. a better model performance.\n",
        "\n",
        "Therefore, as the final fitness function, we will aggregate these two objectives as follows:\n",
        "\n",
        "$f = \\alpha{}\\cdot{}(({maxFeatures - noFeatures})/{maxFeatures}) + (1-\\alpha{})\\cdot{}accuracy$ \n",
        "\n",
        "We use a lower $\\alpha{}$ value since accuracy is our main objective."
      ]
    },
    {
      "cell_type": "code",
      "execution_count": 4,
      "metadata": {
        "id": "1kKt6cKI-djI"
      },
      "outputs": [],
      "source": [
        "# Evaluate a solution\n",
        "def evaluate_solution(s, cfg):\n",
        "  # Remove the unselected features\n",
        "  df = cfg[\"data\"]\n",
        "  i=0\n",
        "  noFeatures = cfg[\"dimension\"]\n",
        "  for column in data:\n",
        "    if s[i]==0:\n",
        "      df = df.drop(column,axis=1)\n",
        "      noFeatures -= 1\n",
        "    i=i+1\n",
        "\n",
        "  model = MLPClassifier()\n",
        "  scores = cross_val_score(\n",
        "      model,df,cfg[\"target\"],scoring='f1_macro',n_jobs=-1,cv=2\n",
        "    ) #using f1_score as it is an imbalanced dataset\n",
        "  accuracy = scores.mean()\n",
        "  fitness = cfg[\"alpha\"]*((cfg[\"dimension\"]-noFeatures)/cfg[\"dimension\"]) + (1-cfg[\"alpha\"])*accuracy\n",
        "  return fitness, accuracy, noFeatures"
      ]
    },
    {
      "cell_type": "markdown",
      "metadata": {
        "id": "7BtANF39FNs6"
      },
      "source": [
        "To test this function, in the next code, two solutions are provided:\n",
        "* A solution using all the features\n",
        "* A biased random solution\n",
        "\n",
        "Also, the code includes a utility function to print a solution."
      ]
    },
    {
      "cell_type": "code",
      "execution_count": 5,
      "metadata": {
        "id": "EcKBTzRCFdLF",
        "colab": {
          "base_uri": "https://localhost:8080/"
        },
        "outputId": "6d9c5b59-6a38-4aac-df9d-f476200b98da"
      },
      "outputs": [
        {
          "output_type": "stream",
          "name": "stdout",
          "text": [
            "Complete:\n",
            "\tSolution: [1, 1, 1, 1, 1, 1, 1, 1, 1, 1, 1, 1, 1, 1, 1, 1, 1, 1, 1, 1, 1, 1, 1, 1, 1, 1, 1, 1, 1, 1]\n",
            "\tNumber of selected features: 30\n",
            "\tAccuracy: 0.9293546955236415\n",
            "\tFitnes: 0.7434837564189132\n",
            "\tFeatures: ['radius_mean', 'texture_mean', 'perimeter_mean', 'area_mean', 'smoothness_mean', 'compactness_mean', 'concavity_mean', 'concave points_mean', 'symmetry_mean', 'fractal_dimension_mean', 'radius_se', 'texture_se', 'perimeter_se', 'area_se', 'smoothness_se', 'compactness_se', 'concavity_se', 'concave points_se', 'symmetry_se', 'fractal_dimension_se', 'radius_worst', 'texture_worst', 'perimeter_worst', 'area_worst', 'smoothness_worst', 'compactness_worst', 'concavity_worst', 'concave points_worst', 'symmetry_worst', 'fractal_dimension_worst']\n",
            "Random:\n",
            "\tSolution: [0, 0, 0, 0, 0, 0, 1, 0, 0, 0, 1, 0, 1, 0, 0, 1, 0, 0, 0, 0, 1, 1, 0, 1, 1, 1, 1, 0, 0, 0]\n",
            "\tNumber of selected features: 10\n",
            "\tAccuracy: 0.8514675728441827\n",
            "\tFitnes: 0.8145073916086796\n",
            "\tFeatures: ['concavity_mean', 'radius_se', 'perimeter_se', 'compactness_se', 'radius_worst', 'texture_worst', 'area_worst', 'smoothness_worst', 'compactness_worst', 'concavity_worst']\n"
          ]
        }
      ],
      "source": [
        "\n",
        "# return a solution using all the features and its fitness\n",
        "def complete_solution(cfg):\n",
        "  s = [1]*cfg[\"dimension\"]\n",
        "  return s\n",
        "\n",
        "def random_solution(cfg):\n",
        "    s = [0]*cfg[\"dimension\"]\n",
        "    for p in range(len(s)):\n",
        "      if random.uniform(0,1) < cfg[\"bias\"]:\n",
        "        s[p] = 1\n",
        "    return s\n",
        "\n",
        "# Get the names of the features selected\n",
        "def print_solution(s, cfg):\n",
        "  print(\"\\tSolution:\",s)\n",
        "  list_of_features= []\n",
        "  for i in range(len(s)):\n",
        "    if s[i]:\n",
        "      list_of_features.append(cfg[\"data\"].columns[i])\n",
        "  f, a, nof = evaluate_solution(s, cfg)\n",
        "  print(\"\\tNumber of selected features:\", nof)\n",
        "  print(\"\\tAccuracy:\", a)\n",
        "  print(\"\\tFitnes:\", f)\n",
        "  print(\"\\tFeatures:\", list_of_features)\n",
        "\n",
        "# Main program\n",
        "data, target = load_data()\n",
        "configuration = {\n",
        "    \"dimension\": data.shape[1], # Number of features\n",
        "    \"data\": data, # Values of the features\n",
        "    \"target\": target, # classification for each sample in data\n",
        "    \"alpha\": 0.2, # Weight for the aggregative function\n",
        "    \"bias\": 0.3 # A bias for reducing the number of features in the random solution\n",
        "}\n",
        "\n",
        "s0 = complete_solution(configuration)\n",
        "s1 = random_solution(configuration)\n",
        "\n",
        "print(\"Complete:\")\n",
        "print_solution(s0, configuration)\n",
        "\n",
        "print(\"Random:\")\n",
        "print_solution(s1, configuration)"
      ]
    },
    {
      "cell_type": "markdown",
      "metadata": {
        "id": "u8f7Km7yJKxx"
      },
      "source": [
        "## Algorithms to solve this problem\n",
        "\n",
        "We will use three different techniques to solve this problem: GA (lesson 1), HC and VNS (lesson 2). \n",
        "\n",
        "Some considerations about this problem. This problem is a quite time-consuming process. To reduce the execution time in our experiments:\n",
        "* We only use a 2-cross validation process.\n",
        "* The number of steps of the technique is very low (100).\n",
        "* Each technique is only executed one time.\n",
        "\n",
        "To get more accurate/robust results, we should use 10-cv, run the algorithm 30 or more times and the number of steps should be increased, but we will need a dedicated machine or even use a parallel platform.\n",
        "\n",
        "In the next cell, we provide the HC code as an example, while you should implement the GA and VNS code (adapting the code from previous lessons)."
      ]
    },
    {
      "cell_type": "markdown",
      "metadata": {
        "id": "xwBrJq_CLKz4"
      },
      "source": [
        "### Hill-climbing algorithm"
      ]
    },
    {
      "cell_type": "code",
      "execution_count": 6,
      "metadata": {
        "id": "6YCV1UaDL5ex",
        "colab": {
          "base_uri": "https://localhost:8080/"
        },
        "outputId": "d1ed7cfd-f734-4831-c1cf-c93fb5c388db"
      },
      "outputs": [
        {
          "output_type": "stream",
          "name": "stdout",
          "text": [
            "Running HC .........|.........|.........|.........|.........|.........|.........|.........|.........|.........|\n",
            "\tSolution: [0, 0, 1, 0, 1, 0, 1, 1, 1, 1, 0, 0, 1, 1, 0, 1, 0, 0, 0, 0, 0, 1, 0, 0, 0, 0, 0, 0, 0, 0]\n",
            "\tNumber of selected features: 10\n",
            "\tAccuracy: 0.8450421013424191\n",
            "\tFitnes: 0.8093670144072687\n",
            "\tFeatures: ['perimeter_mean', 'smoothness_mean', 'concavity_mean', 'concave points_mean', 'symmetry_mean', 'fractal_dimension_mean', 'perimeter_se', 'area_se', 'compactness_se', 'texture_worst']\n"
          ]
        }
      ],
      "source": [
        "# ------------------------- FUNCTIONS ----------------------------------\n",
        "\n",
        "# Generate a neighbour\n",
        "# sigma is the maximum number of bits affected by this operator\n",
        "def mutate(sol, sigma):\n",
        "    changed_bits = random.randint(1, sigma)\n",
        "    for i in range(changed_bits):\n",
        "        pos = random.randint(0, len(sol)-1)\n",
        "        sol[pos] = 1 - sol[pos] # bitflip\n",
        "    return sol\n",
        "\n",
        "# A simple HC\n",
        "def HC(cfg):\n",
        "    # Generate an initial solution\n",
        "    best_sol = random_solution(cfg)\n",
        "    best_fitness,_,_ = evaluate_solution(best_sol, cfg)\n",
        "    best_sol_iter = 0\n",
        "    for i in range(1, cfg[\"steps\"]+1):\n",
        "        if (i % 10):\n",
        "            print(\".\", end=\"\")\n",
        "        else:\n",
        "            print(\"|\", end=\"\")\n",
        "        # Generate a neighbour\n",
        "        sol = mutate(best_sol, cfg[\"sigma\"])\n",
        "        fitness,_,_ = evaluate_solution(sol, cfg)\n",
        "        # Update the best solution if better\n",
        "        if fitness > best_fitness:\n",
        "            best_fitness = fitness\n",
        "            best_sol = sol\n",
        "            best_sol_iter = i\n",
        "    return best_sol, best_fitness, best_sol_iter\n",
        "\n",
        "# --------------------------- MAIN PROGRAM ----------------------------\n",
        "\n",
        "# Configuration\n",
        "# Additional parameters for HC\n",
        "configuration[\"steps\"] = 100\n",
        "configuration[\"sigma\"] = 1\n",
        "print(\"Running HC \", end=\"\")\n",
        "s, _, _ = HC(configuration)\n",
        "print()\n",
        "print_solution(s, configuration)"
      ]
    },
    {
      "cell_type": "markdown",
      "metadata": {
        "id": "_4lE3viQNmCW"
      },
      "source": [
        "### VNS\n",
        "\n",
        "Adapt the VNS code of second lesson to solve this problem. For variable neighbourhoods, you can change `sigma` value of `mutate` function from 1 to 10. Use the functions provided in the previous cells (`mutate`, `evaluation_solution`, `random_solution` and `print_solution`).\n",
        "\n",
        "Note that in the second lesson, we **minimize** the fitness value, and in this problem, we want to **maximize** it."
      ]
    },
    {
      "cell_type": "code",
      "execution_count": 7,
      "metadata": {
        "id": "eFmYQB8HP3AL",
        "colab": {
          "base_uri": "https://localhost:8080/"
        },
        "outputId": "8e01f962-3f56-4cba-e83d-077131525254"
      },
      "outputs": [
        {
          "output_type": "stream",
          "name": "stdout",
          "text": [
            "Running VNS .........|.........|.........|.........|.........|.........|.........|.........|.........|.........|\n",
            "\tSolution: [1, 0, 1, 1, 1, 0, 1, 0, 1, 0, 1, 0, 0, 0, 0, 0, 1, 0, 1, 0, 1, 1, 0, 1, 0, 0, 1, 0, 0, 1]\n",
            "\tNumber of selected features: 14\n",
            "\tAccuracy: 0.9115549032133919\n",
            "\tFitnes: 0.8359105892373803\n",
            "\tFeatures: ['radius_mean', 'perimeter_mean', 'area_mean', 'smoothness_mean', 'concavity_mean', 'symmetry_mean', 'radius_se', 'concavity_se', 'symmetry_se', 'radius_worst', 'texture_worst', 'area_worst', 'concavity_worst', 'fractal_dimension_worst']\n"
          ]
        }
      ],
      "source": [
        "# VNS code\n",
        "\n",
        "def VNS(cfg):\n",
        "    # Generate an initial solution\n",
        "    best_sol = random_solution(cfg)\n",
        "    best_fitness,_,_ = evaluate_solution(best_sol, cfg)\n",
        "    best_sol_iter = 0\n",
        "\n",
        "    neighbourhood = 1 #\n",
        "    MAX_NEIGHBOURHOOD = 10 #\n",
        "\n",
        "    for i in range(1, cfg[\"steps\"]+1):\n",
        "        if (i % 10):\n",
        "            print(\".\", end=\"\")\n",
        "        else:\n",
        "            print(\"|\", end=\"\")\n",
        "        # Generate a neighbour\n",
        "        sol = mutate(best_sol, neighbourhood) # cfg[\"sigma\"]\n",
        "        fitness,_,_ = evaluate_solution(sol, cfg)\n",
        "        # Update the best solution if better\n",
        "        if fitness > best_fitness:\n",
        "            best_fitness = fitness\n",
        "            best_sol = sol\n",
        "            best_sol_iter = i\n",
        "            neighbourhood = 1 #\n",
        "        else:\n",
        "            neighbourhood += 1\n",
        "            if neighbourhood > MAX_NEIGHBOURHOOD:\n",
        "                neighbourhood = 1\n",
        "\n",
        "    return best_sol, best_fitness, best_sol_iter\n",
        "\n",
        "# --------------------------- MAIN PROGRAM ----------------------------\n",
        "\n",
        "# Configuration\n",
        "# Additional parameters for VNS\n",
        "configuration[\"steps\"] = 100\n",
        "print(\"Running VNS \", end=\"\")\n",
        "s, _, _ = VNS(configuration)\n",
        "print()\n",
        "print_solution(s, configuration)"
      ]
    },
    {
      "cell_type": "markdown",
      "metadata": {
        "id": "MSrUKQw9QQaX"
      },
      "source": [
        "### GA\n",
        "\n",
        "Adapt the GA code of the first lesson for this problem. Use the functions provided in the previous cells (`mutate`, `evaluation_solution`, `random_solution` and `print_solution`)."
      ]
    },
    {
      "cell_type": "code",
      "execution_count": 8,
      "metadata": {
        "id": "VAwgCgoZQM3t",
        "colab": {
          "base_uri": "https://localhost:8080/"
        },
        "outputId": "ef70f4d3-0039-448b-d991-cd829dd90fec"
      },
      "outputs": [
        {
          "output_type": "stream",
          "name": "stdout",
          "text": [
            "Running GA .........|.........|.........|.........|.........|.........|.........|.........|.........|.........|\n",
            "\tSolution: [1, 0, 0, 0, 0, 0, 0, 0, 0, 0, 0, 0, 0, 0, 0, 0, 0, 0, 1, 0, 1, 0, 0, 0, 0, 0, 0, 0, 0, 0]\n",
            "\tNumber of selected features: 3\n",
            "\tAccuracy: 0.9054230215744563\n",
            "\tFitnes: 0.9043384172595651\n",
            "\tFeatures: ['radius_mean', 'symmetry_se', 'radius_worst']\n"
          ]
        }
      ],
      "source": [
        "# GA code\n",
        "\n",
        "# -------------------------- FUNCTIONS -------------------\n",
        "       \n",
        "def initialize(cfg):\n",
        "    pop = [] \n",
        "    for i in range(cfg[\"pop_size\"]):\n",
        "        sol ={\n",
        "            \"string\": random_solution(cfg),\n",
        "            \"fitness\": None\n",
        "            }\n",
        "        pop.append(sol)\n",
        "    return pop\n",
        "\n",
        "def evaluate_solution_GA(s, cfg):\n",
        "    fitness, _, _ = evaluate_solution(s, cfg)\n",
        "    return fitness \n",
        "\n",
        "def evaluate(pop, cfg):\n",
        "    for sol in pop:\n",
        "        sol[\"fitness\"] = evaluate_solution_GA(sol[\"string\"], cfg)\n",
        "        \n",
        "def select(pop):\n",
        "    return random.choice(pop), random.choice(pop)\n",
        "\n",
        "# crossover operator (SPX)\n",
        "def recombination(p1, p2, cfg):\n",
        "    point = random.randint(1,len(p1)-2)\n",
        "    child1 = p1[:point]+p2[point:]\n",
        "    child2 = p2[:point]+p1[point:]\n",
        "    if evaluate_solution_GA(child1, cfg) > evaluate_solution_GA(child2, cfg):\n",
        "        return child1\n",
        "    else:\n",
        "        return child2\n",
        "\n",
        "def replacement(pop, s):\n",
        "    pop.append(s)\n",
        "    new_pop = sorted(pop, key = lambda i: i[\"fitness\"], reverse=True)\n",
        "    return new_pop[:-1] # remove the last one\n",
        "\n",
        "def best_solution(pop):\n",
        "    new_pop = sorted(pop, key = lambda i: i[\"fitness\"], reverse=True)\n",
        "    return new_pop[0]\n",
        "\n",
        "# main algorithm\n",
        "def GA(cfg):\n",
        "    # initial seed for replicability\n",
        "    random.seed(cfg[\"seed\"])\n",
        "    \n",
        "    # Initial steps\n",
        "    population = initialize(cfg) # build the initial population\n",
        "    evaluate(population, cfg) # evaluate all solutions in the population\n",
        "    best_sol = best_solution(population)\n",
        "    iter_best_sol = 0\n",
        "\n",
        "    # Evolutive steps\n",
        "    for i in range(1,cfg[\"steps\"]+1):\n",
        "        if (i % 10):\n",
        "            print(\".\", end=\"\")\n",
        "        else:\n",
        "            print(\"|\", end=\"\")\n",
        "\n",
        "        p1, p2 = select(population) # select two parents for crossover\n",
        "        new_sol = recombination(p1[\"string\"], p2[\"string\"], cfg) # apply crossover operator\n",
        "        new_sol = mutate(new_sol, cfg[\"sigma\"]) # apply mutation operator\n",
        "        sol = {\"string\": new_sol, \"fitness\": evaluate_solution_GA(new_sol, cfg)} # evaluate the new solution\n",
        "        population = replacement(population, sol) # generate the next population including the new solution\n",
        "        \n",
        "        # Get the best solution\n",
        "        best_sol_current = best_solution(population)\n",
        "        if best_sol_current[\"fitness\"] > best_sol[\"fitness\"]:\n",
        "            iter_best_sol = i\n",
        "            best_sol = best_sol_current\n",
        "    return best_sol[\"string\"], best_sol[\"fitness\"], iter_best_sol\n",
        "\n",
        "# -------------------------- MAIN PROGRAM -------------------\n",
        "\n",
        "# Configuration\n",
        "# Additional parameters for GA\n",
        "configuration[\"seed\"] = 11\n",
        "configuration[\"pop_size\"] = 20\n",
        "configuration[\"steps\"] = 100\n",
        "configuration[\"sigma\"] = 1\n",
        "\n",
        "print(\"Running GA \", end=\"\")\n",
        "s, _, _ = GA(configuration)\n",
        "print()\n",
        "print_solution(s, configuration)"
      ]
    },
    {
      "cell_type": "markdown",
      "metadata": {
        "id": "L-DXP7BMRs0X"
      },
      "source": [
        "## Exercises\n",
        "\n",
        "1. Complete the next table with the obtained results"
      ]
    },
    {
      "cell_type": "markdown",
      "metadata": {
        "id": "1OoTVLh7R0_Z"
      },
      "source": [
        "Answer 1: \n",
        "\n",
        "| | Complete solution | HC | VNS | GA |\n",
        "| --- | --- | --- | --- | --- |\n",
        "| Number of features | 30 | 10 | 14 | 3 |\n",
        "| Model accuracy | 93% | 85% | 91%| 91% |\n",
        "| Fitness | 74% | 81% | 84% | 90% |\n"
      ]
    },
    {
      "cell_type": "markdown",
      "metadata": {
        "id": "R3SmgzeBSeYb"
      },
      "source": [
        "2. Analyzing these results, which algorithm provides better results? Justify your answer."
      ]
    },
    {
      "cell_type": "markdown",
      "metadata": {
        "id": "Qf8RMU0HSzLh"
      },
      "source": [
        "Answer 2:\n",
        "\n",
        "Due to the small number of iterations, tests results are unstable, which makes comparison between HC and VNS hard, as depending on initial random solution, which is better changes.\n",
        "\n",
        "However, GA prooves to be better than any of them. Due to recombination, it searches widers solution space much faster, and can converge in smaller number of iterations. VNS, for higher sigmas, can also search wider space, however it is random, while GA combines previous solutions from continously upgraded population. \n",
        "\n",
        "VNS should converge faster than HC (which, especially due to small changes, can get stuck in a local optimum), however in this case, probably due to small number of iterations, when it starts from a very bad solution it may have problem upgrding in restricted time.\n",
        "\n",
        "**Complete**\n",
        "\n",
        "Solution: [1, 1, 1, 1, 1, 1, 1, 1, 1, 1, 1, 1, 1, 1, 1, 1, 1, 1, 1, 1, 1, 1, 1, 1, 1, 1, 1, 1, 1, 1]\n",
        "\n",
        "Features: ['radius_mean', 'texture_mean', 'perimeter_mean', 'area_mean', 'smoothness_mean', 'compactness_mean', 'concavity_mean', 'concave points_mean', 'symmetry_mean', 'fractal_dimension_mean', 'radius_se', 'texture_se', 'perimeter_se', 'area_se', 'smoothness_se', 'compactness_se', 'concavity_se', 'concave points_se', 'symmetry_se', 'fractal_dimension_se', 'radius_worst', 'texture_worst', 'perimeter_worst', 'area_worst', 'smoothness_worst', 'compactness_worst', 'concavity_worst', 'concave points_worst', 'symmetry_worst', 'fractal_dimension_worst']\n",
        "\n",
        "**HC**\n",
        "\n",
        "Solution: [0, 0, 1, 0, 1, 0, 1, 1, 1, 1, 0, 0, 1, 1, 0, 1, 0, 0, 0, 0, 0, 1, 0, 0, 0, 0, 0, 0, 0, 0]\n",
        "\n",
        "Features: ['perimeter_mean', 'smoothness_mean', 'concavity_mean', 'concave points_mean', 'symmetry_mean', 'fractal_dimension_mean', 'perimeter_se', 'area_se', 'compactness_se', 'texture_worst']\n",
        "\n",
        "**VNS**\n",
        "\n",
        "Solution: [1, 0, 1, 1, 1, 0, 1, 0, 1, 0, 1, 0, 0, 0, 0, 0, 1, 0, 1, 0, 1, 1, 0, 1, 0, 0, 1, 0, 0, 1]\n",
        "\n",
        "Features: ['radius_mean', 'perimeter_mean', 'area_mean', 'smoothness_mean', 'concavity_mean', 'symmetry_mean', 'radius_se', 'concavity_se', 'symmetry_se', 'radius_worst', 'texture_worst', 'area_worst', 'concavity_worst', 'fractal_dimension_worst']\n",
        "\n",
        "**GA**\n",
        "\n",
        "Solution: [1, 0, 0, 0, 0, 0, 0, 0, 0, 0, 0, 0, 0, 0, 0, 0, 0, 0, 1, 0, 1, 0, 0, 0, 0, 0, 0, 0, 0, 0]\n",
        "\n",
        "Features: ['radius_mean', 'symmetry_se', 'radius_worst']"
      ]
    },
    {
      "cell_type": "markdown",
      "metadata": {
        "id": "aWmr6QGaTF32"
      },
      "source": [
        "3. (Optional) In the previous experiment, we use an Artificial Neural Network as the machine learning model. Change it for a different technique that you are used in part I or II from this course (K-means, SVM, regression...) and repeat the experiments."
      ]
    },
    {
      "cell_type": "code",
      "source": [
        "from sklearn.svm import SVC\n",
        "\n",
        "# Evaluate a solution - SVM version\n",
        "def evaluate_solution(s, cfg):\n",
        "  # Remove the unselected features\n",
        "  df = cfg[\"data\"]\n",
        "  i=0\n",
        "  noFeatures = cfg[\"dimension\"]\n",
        "  for column in data:\n",
        "    if s[i]==0:\n",
        "      df = df.drop(column,axis=1)\n",
        "      noFeatures -= 1\n",
        "    i=i+1\n",
        "\n",
        "  # model = MLPClassifier() - ORIGINAL CLASSIFIER\n",
        "  model = SVC(C=.1, kernel='linear', gamma=1)\n",
        "  #model = SVC(kernel='rbf')\n",
        "  #model = SVC(kernel='poly')\n",
        "\n",
        "  scores = cross_val_score(\n",
        "      model,df,cfg[\"target\"],scoring='f1_macro',n_jobs=-1,cv=2\n",
        "    ) #using f1_score as it is an imbalanced dataset\n",
        "  accuracy = scores.mean()\n",
        "  fitness = cfg[\"alpha\"]*((cfg[\"dimension\"]-noFeatures)/cfg[\"dimension\"]) + (1-cfg[\"alpha\"])*accuracy\n",
        "  return fitness, accuracy, noFeatures\n",
        "\n",
        "# Get the names of the features selected\n",
        "def print_solution(s, cfg):\n",
        "  print(\"\\tSolution:\",s)\n",
        "  list_of_features= []\n",
        "  for i in range(len(s)):\n",
        "    if s[i]:\n",
        "      list_of_features.append(cfg[\"data\"].columns[i])\n",
        "  f, a, nof = evaluate_solution(s, cfg)\n",
        "  print(\"\\tNumber of selected features:\", nof)\n",
        "  print(\"\\tAccuracy:\", a)\n",
        "  print(\"\\tFitnes:\", f)\n",
        "  print(\"\\tFeatures:\", list_of_features)"
      ],
      "metadata": {
        "id": "EpqpyYgGXM0i"
      },
      "execution_count": 9,
      "outputs": []
    },
    {
      "cell_type": "code",
      "source": [
        "# Full solution\n",
        "data, target = load_data()\n",
        "configuration = {\n",
        "    \"dimension\": data.shape[1], # Number of features\n",
        "    \"data\": data, # Values of the features\n",
        "    \"target\": target, # classification for each sample in data\n",
        "    \"alpha\": 0.2, # Weight for the aggregative function\n",
        "    \"bias\": 0.3 # A bias for reducing the number of features in the random solution\n",
        "}\n",
        "\n",
        "s0 = complete_solution(configuration)\n",
        "\n",
        "print(\"Complete:\")\n",
        "print_solution(s0, configuration)"
      ],
      "metadata": {
        "colab": {
          "base_uri": "https://localhost:8080/"
        },
        "id": "CuweMsFUYOqh",
        "outputId": "8981f74d-c14e-4c06-a142-20aadcbc9375"
      },
      "execution_count": 10,
      "outputs": [
        {
          "output_type": "stream",
          "name": "stdout",
          "text": [
            "Complete:\n",
            "\tSolution: [1, 1, 1, 1, 1, 1, 1, 1, 1, 1, 1, 1, 1, 1, 1, 1, 1, 1, 1, 1, 1, 1, 1, 1, 1, 1, 1, 1, 1, 1]\n",
            "\tNumber of selected features: 30\n",
            "\tAccuracy: 0.9335982044269258\n",
            "\tFitnes: 0.7468785635415407\n",
            "\tFeatures: ['radius_mean', 'texture_mean', 'perimeter_mean', 'area_mean', 'smoothness_mean', 'compactness_mean', 'concavity_mean', 'concave points_mean', 'symmetry_mean', 'fractal_dimension_mean', 'radius_se', 'texture_se', 'perimeter_se', 'area_se', 'smoothness_se', 'compactness_se', 'concavity_se', 'concave points_se', 'symmetry_se', 'fractal_dimension_se', 'radius_worst', 'texture_worst', 'perimeter_worst', 'area_worst', 'smoothness_worst', 'compactness_worst', 'concavity_worst', 'concave points_worst', 'symmetry_worst', 'fractal_dimension_worst']\n"
          ]
        }
      ]
    },
    {
      "cell_type": "code",
      "source": [
        "# HC\n",
        "\n",
        "# A simple HC\n",
        "def HC(cfg):\n",
        "    # Generate an initial solution\n",
        "    best_sol = random_solution(cfg)\n",
        "    best_fitness,_,_ = evaluate_solution(best_sol, cfg)\n",
        "    best_sol_iter = 0\n",
        "    for i in range(1, cfg[\"steps\"]+1):\n",
        "        if (i % 10):\n",
        "            print(\".\", end=\"\")\n",
        "        else:\n",
        "            print(\"|\", end=\"\")\n",
        "        # Generate a neighbour\n",
        "        sol = mutate(best_sol, cfg[\"sigma\"])\n",
        "        fitness,_,_ = evaluate_solution(sol, cfg)\n",
        "        # Update the best solution if better\n",
        "        if fitness > best_fitness:\n",
        "            best_fitness = fitness\n",
        "            best_sol = sol\n",
        "            best_sol_iter = i\n",
        "    return best_sol, best_fitness, best_sol_iter\n",
        "\n",
        "# --------------------------- MAIN PROGRAM ----------------------------\n",
        "\n",
        "# Configuration\n",
        "# Additional parameters for HC\n",
        "configuration[\"steps\"] = 100\n",
        "configuration[\"sigma\"] = 1\n",
        "print(\"Running HC \", end=\"\")\n",
        "s, _, _ = HC(configuration)\n",
        "print()\n",
        "print_solution(s, configuration)"
      ],
      "metadata": {
        "colab": {
          "base_uri": "https://localhost:8080/"
        },
        "id": "jJyZs9WTYO3R",
        "outputId": "f5362bfb-b95f-4fa8-d9cd-65554f025e41"
      },
      "execution_count": 11,
      "outputs": [
        {
          "output_type": "stream",
          "name": "stdout",
          "text": [
            "Running HC .........|.........|.........|.........|.........|.........|.........|.........|.........|.........|\n",
            "\tSolution: [1, 1, 1, 0, 1, 0, 1, 0, 0, 0, 1, 1, 0, 0, 1, 0, 0, 0, 1, 1, 1, 0, 0, 1, 1, 1, 0, 1, 0, 1]\n",
            "\tNumber of selected features: 16\n",
            "\tAccuracy: 0.910557580174927\n",
            "\tFitnes: 0.8217793974732751\n",
            "\tFeatures: ['radius_mean', 'texture_mean', 'perimeter_mean', 'smoothness_mean', 'concavity_mean', 'radius_se', 'texture_se', 'smoothness_se', 'symmetry_se', 'fractal_dimension_se', 'radius_worst', 'area_worst', 'smoothness_worst', 'compactness_worst', 'concave points_worst', 'fractal_dimension_worst']\n"
          ]
        }
      ]
    },
    {
      "cell_type": "code",
      "source": [
        "# VNS\n",
        "\n",
        "def VNS(cfg):\n",
        "    # Generate an initial solution\n",
        "    best_sol = random_solution(cfg)\n",
        "    best_fitness,_,_ = evaluate_solution(best_sol, cfg)\n",
        "    best_sol_iter = 0\n",
        "\n",
        "    neighbourhood = 1 #\n",
        "    MAX_NEIGHBOURHOOD = 10 #\n",
        "\n",
        "    for i in range(1, cfg[\"steps\"]+1):\n",
        "        if (i % 10):\n",
        "            print(\".\", end=\"\")\n",
        "        else:\n",
        "            print(\"|\", end=\"\")\n",
        "        # Generate a neighbour\n",
        "        sol = mutate(best_sol, neighbourhood) # cfg[\"sigma\"]\n",
        "        fitness,_,_ = evaluate_solution(sol, cfg)\n",
        "        # Update the best solution if better\n",
        "        if fitness > best_fitness:\n",
        "            best_fitness = fitness\n",
        "            best_sol = sol\n",
        "            best_sol_iter = i\n",
        "            neighbourhood = 1 #\n",
        "        else:\n",
        "            neighbourhood += 1\n",
        "            if neighbourhood > MAX_NEIGHBOURHOOD:\n",
        "                neighbourhood = 1\n",
        "\n",
        "    return best_sol, best_fitness, best_sol_iter\n",
        "\n",
        "# --------------------------- MAIN PROGRAM ----------------------------\n",
        "\n",
        "# Configuration\n",
        "# Additional parameters for VNS\n",
        "configuration[\"steps\"] = 100\n",
        "print(\"Running VNS \", end=\"\")\n",
        "s, _, _ = VNS(configuration)\n",
        "print()\n",
        "print_solution(s, configuration)"
      ],
      "metadata": {
        "colab": {
          "base_uri": "https://localhost:8080/"
        },
        "id": "rGkB7qk1YPCj",
        "outputId": "d6673f98-6108-4a7e-ee1c-58d81c840a1c"
      },
      "execution_count": 12,
      "outputs": [
        {
          "output_type": "stream",
          "name": "stdout",
          "text": [
            "Running VNS .........|.........|.........|.........|.........|.........|.........|.........|.........|.........|\n",
            "\tSolution: [0, 1, 0, 0, 1, 1, 1, 1, 0, 1, 0, 1, 1, 1, 0, 0, 0, 1, 0, 1, 0, 0, 0, 1, 0, 0, 1, 0, 1, 0]\n",
            "\tNumber of selected features: 14\n",
            "\tAccuracy: 0.9200484353870688\n",
            "\tFitnes: 0.8427054149763218\n",
            "\tFeatures: ['texture_mean', 'smoothness_mean', 'compactness_mean', 'concavity_mean', 'concave points_mean', 'fractal_dimension_mean', 'texture_se', 'perimeter_se', 'area_se', 'concave points_se', 'fractal_dimension_se', 'area_worst', 'concavity_worst', 'symmetry_worst']\n"
          ]
        }
      ]
    },
    {
      "cell_type": "code",
      "source": [
        "# GA\n",
        "\n",
        "def evaluate_solution_GA(s, cfg):\n",
        "    fitness, _, _ = evaluate_solution(s, cfg)\n",
        "    return fitness \n",
        "\n",
        "def evaluate(pop, cfg):\n",
        "    for sol in pop:\n",
        "        sol[\"fitness\"] = evaluate_solution_GA(sol[\"string\"], cfg)\n",
        "        \n",
        "def select(pop):\n",
        "    return random.choice(pop), random.choice(pop)\n",
        "\n",
        "# crossover operator (SPX)\n",
        "def recombination(p1, p2, cfg):\n",
        "    point = random.randint(1,len(p1)-2)\n",
        "    child1 = p1[:point]+p2[point:]\n",
        "    child2 = p2[:point]+p1[point:]\n",
        "    if evaluate_solution_GA(child1, cfg) > evaluate_solution_GA(child2, cfg):\n",
        "        return child1\n",
        "    else:\n",
        "        return child2\n",
        "\n",
        "# main algorithm\n",
        "def GA(cfg):\n",
        "    # initial seed for replicability\n",
        "    random.seed(cfg[\"seed\"])\n",
        "    \n",
        "    # Initial steps\n",
        "    population = initialize(cfg) # build the initial population\n",
        "    evaluate(population, cfg) # evaluate all solutions in the population\n",
        "    best_sol = best_solution(population)\n",
        "    iter_best_sol = 0\n",
        "\n",
        "    # Evolutive steps\n",
        "    for i in range(1,cfg[\"steps\"]+1):\n",
        "        if (i % 10):\n",
        "            print(\".\", end=\"\")\n",
        "        else:\n",
        "            print(\"|\", end=\"\")\n",
        "\n",
        "        p1, p2 = select(population) # select two parents for crossover\n",
        "        new_sol = recombination(p1[\"string\"], p2[\"string\"], cfg) # apply crossover operator\n",
        "        new_sol = mutate(new_sol, cfg[\"sigma\"]) # apply mutation operator\n",
        "        sol = {\"string\": new_sol, \"fitness\": evaluate_solution_GA(new_sol, cfg)} # evaluate the new solution\n",
        "        population = replacement(population, sol) # generate the next population including the new solution\n",
        "        \n",
        "        # Get the best solution\n",
        "        best_sol_current = best_solution(population)\n",
        "        if best_sol_current[\"fitness\"] > best_sol[\"fitness\"]:\n",
        "            iter_best_sol = i\n",
        "            best_sol = best_sol_current\n",
        "    return best_sol[\"string\"], best_sol[\"fitness\"], iter_best_sol\n",
        "\n",
        "# -------------------------- MAIN PROGRAM -------------------\n",
        "\n",
        "# Configuration\n",
        "# Additional parameters for GA\n",
        "configuration[\"seed\"] = 11\n",
        "configuration[\"pop_size\"] = 20\n",
        "configuration[\"steps\"] = 100\n",
        "configuration[\"sigma\"] = 1\n",
        "\n",
        "print(\"Running GA \", end=\"\")\n",
        "s, _, _ = GA(configuration)\n",
        "print()\n",
        "print_solution(s, configuration)"
      ],
      "metadata": {
        "colab": {
          "base_uri": "https://localhost:8080/"
        },
        "id": "JlAvZQmvZAAJ",
        "outputId": "46a8868f-eac4-4285-db49-66469ae15546"
      },
      "execution_count": 13,
      "outputs": [
        {
          "output_type": "stream",
          "name": "stdout",
          "text": [
            "Running GA .........|.........|.........|.........|.........|.........|.........|.........|.........|.........|\n",
            "\tSolution: [1, 1, 0, 0, 0, 0, 0, 0, 0, 0, 0, 0, 0, 0, 1, 0, 0, 0, 0, 0, 1, 0, 1, 0, 0, 0, 0, 0, 0, 0]\n",
            "\tNumber of selected features: 5\n",
            "\tAccuracy: 0.9367322131377256\n",
            "\tFitnes: 0.9160524371768473\n",
            "\tFeatures: ['radius_mean', 'texture_mean', 'smoothness_se', 'radius_worst', 'perimeter_worst']\n"
          ]
        }
      ]
    },
    {
      "cell_type": "markdown",
      "metadata": {
        "id": "_P5RdNAcTzb-"
      },
      "source": [
        "**Answer 3:**\n",
        "\n",
        "**Used model:**\n",
        "\n",
        "As an alternative model, Suport Vector Machine was choosen for the following reasons:\n",
        "\n",
        "- it is mostly used for classification\n",
        "- it is effective in high-dimensional cases (Which in given example means up to 30)\n",
        "\n",
        "As can be seen in the table, starting with basic complete dataset model, recived accuracy is little better, which means that the model suits the case better overall.\n",
        "\n",
        "It is further prooven for the rest of the algorithyms, where in each case accuracy is highly improved and overall fitness as well.\n",
        "\n",
        "**Results:**\n",
        "\n",
        "| | Complete solution | HC | VNS | GA |\n",
        "| --- | --- | --- | --- | --- |\n",
        "| Number of features | 30 | 16 | 14 | 5 |\n",
        "| Model accuracy | 93% | 91% | 92% | 94% |\n",
        "| Fitness | 75% | 82% | 84% | 92% |\n",
        "\n",
        "**Details:**\n",
        "\n",
        "*Complete*\n",
        "\n",
        "Solution: [1, 1, 1, 1, 1, 1, 1, 1, 1, 1, 1, 1, 1, 1, 1, 1, 1, 1, 1, 1, 1, 1, 1, 1, 1, 1, 1, 1, 1, 1]\n",
        "\n",
        "Features: ['radius_mean', 'texture_mean', 'perimeter_mean', 'area_mean', 'smoothness_mean', 'compactness_mean', 'concavity_mean', 'concave points_mean', 'symmetry_mean', 'fractal_dimension_mean', 'radius_se', 'texture_se', 'perimeter_se', 'area_se', 'smoothness_se', 'compactness_se', 'concavity_se', 'concave points_se', 'symmetry_se', 'fractal_dimension_se', 'radius_worst', 'texture_worst', 'perimeter_worst', 'area_worst', 'smoothness_worst', 'compactness_worst', 'concavity_worst', 'concave points_worst', 'symmetry_worst', 'fractal_dimension_worst']\n",
        "\n",
        "*HC*\n",
        "\n",
        "Solution: [1, 1, 1, 0, 1, 0, 1, 0, 0, 0, 1, 1, 0, 0, 1, 0, 0, 0, 1, 1, 1, 0, 0, 1, 1, 1, 0, 1, 0, 1]\n",
        "\n",
        "Features: ['radius_mean', 'texture_mean', 'perimeter_mean', 'smoothness_mean', 'concavity_mean', 'radius_se', 'texture_se', 'smoothness_se', 'symmetry_se', 'fractal_dimension_se', 'radius_worst', 'area_worst', 'smoothness_worst', 'compactness_worst', 'concave points_worst', 'fractal_dimension_worst']\n",
        "\n",
        "*VNS*\n",
        "\n",
        "Solution: [0, 1, 0, 0, 1, 1, 1, 1, 0, 1, 0, 1, 1, 1, 0, 0, 0, 1, 0, 1, 0, 0, 0, 1, 0, 0, 1, 0, 1, 0]\n",
        "\n",
        "Features: ['texture_mean', 'smoothness_mean', 'compactness_mean', 'concavity_mean', 'concave points_mean', 'fractal_dimension_mean', 'texture_se', 'perimeter_se', 'area_se', 'concave points_se', 'fractal_dimension_se', 'area_worst', 'concavity_worst', 'symmetry_worst']\n",
        "\n",
        "*GA*\n",
        "\n",
        "Solution: [1, 1, 0, 0, 0, 0, 0, 0, 0, 0, 0, 0, 0, 0, 1, 0, 0, 0, 0, 0, 1, 0, 1, 0, 0, 0, 0, 0, 0, 0]\n",
        "\n",
        "Features: ['radius_mean', 'texture_mean', 'smoothness_se', 'radius_worst', 'perimeter_worst']"
      ]
    },
    {
      "cell_type": "code",
      "source": [
        "#!jupyter nbconvert --to PDF \"/content/drive/MyDrive/Colab Notebooks/ICD_4.ipynb\""
      ],
      "metadata": {
        "colab": {
          "base_uri": "https://localhost:8080/"
        },
        "id": "LjKJgKtlEZ9F",
        "outputId": "452a7c94-0c93-4328-a915-6975a147f60c"
      },
      "execution_count": 16,
      "outputs": [
        {
          "output_type": "stream",
          "name": "stdout",
          "text": [
            "[NbConvertApp] Converting notebook /content/drive/MyDrive/Colab Notebooks/ICD_4.ipynb to PDF\n",
            "[NbConvertApp] Writing 85912 bytes to notebook.tex\n",
            "[NbConvertApp] Building PDF\n",
            "[NbConvertApp] Running xelatex 3 times: ['xelatex', 'notebook.tex', '-quiet']\n",
            "[NbConvertApp] Running bibtex 1 time: ['bibtex', 'notebook']\n",
            "[NbConvertApp] WARNING | bibtex had problems, most likely because there were no citations\n",
            "[NbConvertApp] PDF successfully created\n",
            "[NbConvertApp] Writing 92900 bytes to /content/drive/MyDrive/Colab Notebooks/ICD_4.pdf\n"
          ]
        }
      ]
    }
  ],
  "metadata": {
    "colab": {
      "provenance": []
    },
    "kernelspec": {
      "display_name": "Python 3",
      "name": "python3"
    },
    "language_info": {
      "name": "python"
    }
  },
  "nbformat": 4,
  "nbformat_minor": 0
}